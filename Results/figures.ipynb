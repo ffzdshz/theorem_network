{
 "cells": [
  {
   "cell_type": "code",
   "execution_count": null,
   "id": "df56016b",
   "metadata": {},
   "outputs": [],
   "source": [
    "import pandas as pd\n",
    "import numpy as np\n",
    "import seaborn as sns\n",
    "import matplotlib.pyplot as plt\n",
    "import networkx as nx\n",
    "from tqdm.notebook import tqdm\n",
    "import gc\n",
    "import pickle\n",
    "import random\n",
    "import warnings\n",
    "import matplotlib.patches as patches\n",
    "from scipy.stats import pearsonr, spearmanr, kendalltau\n",
    "from scipy import stats\n",
    "import matplotlib"
   ]
  },
  {
   "cell_type": "code",
   "execution_count": null,
   "id": "b70f682b",
   "metadata": {},
   "outputs": [],
   "source": [
    "def load_file(file):\n",
    "\n",
    "    r = open(file,'rb')\n",
    "    x = pickle.load(r)\n",
    "    r.close()\n",
    "\n",
    "    return x"
   ]
  },
  {
   "cell_type": "code",
   "execution_count": null,
   "id": "624e8451",
   "metadata": {},
   "outputs": [],
   "source": [
    "def save_file(x,file):\n",
    "\n",
    "    r = open(file,'wb')\n",
    "    pickle.dump(x,r)"
   ]
  },
  {
   "cell_type": "code",
   "execution_count": null,
   "id": "1b5290f4",
   "metadata": {},
   "outputs": [],
   "source": [
    "def degree_distribution(F):\n",
    "    degree = pd.DataFrame(nx.degree(F))\n",
    "    degree = degree.sort_values(by=[1], ascending=False)\n",
    "    citypdf_sum2 = pd.DataFrame(degree[1].value_counts())\n",
    "    citypdf_sum2['f'] = citypdf_sum2.index\n",
    "    citypdf_sum2['频率'] = citypdf_sum2[1]/citypdf_sum2[1].sum()\n",
    "    citypdf_sum2 = citypdf_sum2.sort_values(by=['f'], ascending=True)\n",
    "    ccdf_sum2 = np.zeros(len(citypdf_sum2))\n",
    "    for i in range(len(ccdf_sum2)):\n",
    "        ccdf_sum2[i] = 1-np.sum(citypdf_sum2.values[0:i,2])\n",
    "    citypdf_sum2['ccdf'] = ccdf_sum2\n",
    "    gdo = pd.DataFrame(F.out_degree())\n",
    "    gdo = gdo.sort_values(by=[1], ascending=False)\n",
    "    citypdf_sum = pd.DataFrame(gdo[1].value_counts())\n",
    "    citypdf_sum['f'] = citypdf_sum.index\n",
    "    citypdf_sum['频率'] = citypdf_sum[1]/citypdf_sum[1].sum()\n",
    "    citypdf_sum = citypdf_sum.sort_values(by=['f'], ascending=True)\n",
    "    ccdf_sum = np.zeros(len(citypdf_sum))\n",
    "    for i in range(len(ccdf_sum)):\n",
    "        ccdf_sum[i] = 1-np.sum(citypdf_sum.values[0:i,2])\n",
    "    citypdf_sum['ccdf'] = ccdf_sum\n",
    "    gdi = pd.DataFrame(F.in_degree())\n",
    "    gdi = gdi.sort_values(by=[1], ascending=False)\n",
    "    citypdf_sum1 = pd.DataFrame(gdi[1].value_counts())\n",
    "    citypdf_sum1['f'] = citypdf_sum1.index\n",
    "    citypdf_sum1['频率'] = citypdf_sum1[1]/citypdf_sum1[1].sum()\n",
    "    citypdf_sum1 = citypdf_sum1.sort_values(by=['f'], ascending=True)\n",
    "    ccdf_sum1 = np.zeros(len(citypdf_sum1))\n",
    "    for i in range(len(ccdf_sum1)):\n",
    "        ccdf_sum1[i] = 1-np.sum(citypdf_sum1.values[0:i,2])\n",
    "    citypdf_sum1['ccdf'] = ccdf_sum1\n",
    "    degree.set_index([0], inplace=True)\n",
    "    gdo.set_index([0], inplace=True)\n",
    "    gdi.set_index([0], inplace=True)\n",
    "    degree_all = pd.concat([degree, gdo, gdi], axis=1)\n",
    "    degree_all.columns = ['Degree','Out-degree','In-degree']\n",
    "    return degree_all, citypdf_sum2, citypdf_sum, citypdf_sum1"
   ]
  },
  {
   "cell_type": "code",
   "execution_count": null,
   "id": "935fc040",
   "metadata": {},
   "outputs": [],
   "source": [
    "def out_in_correlation(FTdegree_all):\n",
    "    FTdegree_all1 = FTdegree_all[FTdegree_all['Out-degree']!=0]\n",
    "    #FTdegree_all1 = FTdegree_all[(FTdegree_all['Out-degree']!=0)&(FTdegree_all['In-degree']!=0)]\n",
    "    bins = [1, 3**1, 3**2, 3**3, 3**4, 3**5, 3**6, 3**7, 3**8, 3**9, 3**10]\n",
    "    FTdegree_all1['cut-out'] = pd.cut(FTdegree_all1['Out-degree'], bins, right=False, labels=bins[:-1])\n",
    "    FTdegree_all2 = FTdegree_all1.groupby('cut-out')['In-degree'].agg(['mean', 'count', 'sem'])\n",
    "    return FTdegree_all2"
   ]
  },
  {
   "cell_type": "code",
   "execution_count": null,
   "id": "0eeaec47",
   "metadata": {},
   "outputs": [],
   "source": [
    "def network_statistics(F):\n",
    "    a1 = F.number_of_nodes()\n",
    "    a2 = F.number_of_edges()\n",
    "    a3 = nx.density(F)\n",
    "    G = nx.Graph(F)\n",
    "    a4 = sum(nx.triangles(G).values())/3\n",
    "    a5 = nx.transitivity(G)\n",
    "    a6 = nx.average_clustering(G)\n",
    "    a7 = nx.transitivity(F)\n",
    "    a8 = nx.average_clustering(F)\n",
    "    statisticslist = [a1, a2, a3, a4, a5, a6, a7, a8]\n",
    "    \n",
    "    print('节点数', statisticslist[0])\n",
    "    print('边数', statisticslist[1])\n",
    "    print('网络密度', statisticslist[2])\n",
    "    print('三角形数', statisticslist[3])\n",
    "    print('全局集聚系数（无向）', statisticslist[4])\n",
    "    print('平均集聚系数（无向）', statisticslist[5])\n",
    "    print('全局集聚系数（有向）', statisticslist[6])\n",
    "    print('平均集聚系数（有向）', statisticslist[7])"
   ]
  },
  {
   "cell_type": "code",
   "execution_count": null,
   "id": "a088d55f",
   "metadata": {},
   "outputs": [],
   "source": [
    "def disruption_correlation(FT,FTDisruption):\n",
    "    adjacency_list = pd.DataFrame(FT.edges())\n",
    "    adjacency_list.columns = ['Theorem_id','Ref_id']\n",
    "    adjacency_list1 = adjacency_list.drop_duplicates(subset=['Theorem_id','Ref_id'], keep='first')\n",
    "    adjacency_list2 = pd.merge(adjacency_list1, FTDisruption, left_on=adjacency_list1['Theorem_id'], right_index=True)\n",
    "    adjacency_list2 = adjacency_list2.drop(['key_0','Clustering'],axis=1)\n",
    "    adjacency_list3 = pd.merge(adjacency_list2, FTDisruption, left_on=adjacency_list2['Ref_id'], right_index=True)\n",
    "    adjacency_list3 = adjacency_list3.drop(['key_0','Disruption_y','Clustering'],axis=1)\n",
    "    adjacency_list3['Generation_diff'] = adjacency_list3['Generation_x']-adjacency_list3['Generation_y']\n",
    "    adjacency_list3_count1 = adjacency_list3.groupby('Theorem_id')['Generation_diff'].agg(np.mean)\n",
    "    adjacency_list3['Generation_diff_mean'] = adjacency_list3['Theorem_id'].map(adjacency_list3_count1)\n",
    "    adjacency_list3_count2 = adjacency_list3.groupby('Theorem_id')['In-degree_y'].agg(np.mean)\n",
    "    adjacency_list3['kin_mean'] = adjacency_list3['Theorem_id'].map(adjacency_list3_count2)\n",
    "    adjacency_list4 = adjacency_list3.drop_duplicates(subset=['Theorem_id'], keep='first')\n",
    "    adjacency_list4 = adjacency_list4.drop(['Ref_id','Generation_y','Degree_y','Out-degree_y','In-degree_y','Generation_diff','Citation_y'],axis=1)\n",
    "    adjacency_list5 = adjacency_list4[adjacency_list4['Citation_x']>0]\n",
    "    adjacency_list5 = adjacency_list5.drop(['nj_x','ni_x','nk_x','nj_y','ni_y','nk_y'],axis=1)\n",
    "    adjacency_list5.columns = ['paperid','Generation','Disruption','Degree','Out-degree','In-degree','Citation','Reference age (in generations)','Reference popularity']\n",
    "\n",
    "    adjacency_list6 = adjacency_list5.sort_values(by=['Citation'], ascending=True)\n",
    "    adjacency_list6['No'] = range(0,len(adjacency_list6),1)\n",
    "    adjacency_list6['Citation_cut'] = pd.qcut(adjacency_list6['No'], len(Glistlabel), labels=Glistlabel)\n",
    "    pearsonr_pearsonr = []\n",
    "    for i in range(len(Glistlabel)):\n",
    "        data_q1 = adjacency_list6[adjacency_list6['Citation_cut']==Glistlabel[i]]\n",
    "        pearsonr_pearsonr.append(pearsonr(data_q1['Disruption'],data_q1['Citation']))\n",
    "    disruption_correlation__statistics = [adjacency_list5,\n",
    "                                          pearsonr_pearsonr]\n",
    "    return disruption_correlation__statistics"
   ]
  },
  {
   "cell_type": "code",
   "execution_count": null,
   "id": "f2bd0e5c",
   "metadata": {},
   "outputs": [],
   "source": [
    "colorlist = {\n",
    "        'FT1':'#1A4786',\n",
    "        'FT2':'#0F284C',\n",
    "        'FT3':'#586C86',\n",
    "        'FM1':'#ef852f',\n",
    "        'FM2':'#864B1A',\n",
    "        'FM3':'#EFB483',\n",
    "        'FAPS1':'#cb4042',\n",
    "        'FAPS2':'#722426',\n",
    "        'FAPS3':'#CB7D7E',\n",
    "        'FT1alpha':(26/255,71/255,134/255,0.8),\n",
    "        'FM1alpha':(239/255,133/255,47/255,1),\n",
    "        'FAPS1alpha':(203/255,64/255,66/255,1),\n",
    "        'NM':'#F6F4F2',\n",
    "        'GM':'#fff1c1',\n",
    "        }"
   ]
  },
  {
   "cell_type": "code",
   "execution_count": null,
   "id": "9a292131",
   "metadata": {},
   "outputs": [],
   "source": [
    "list_all = pd.read_excel('F:\\\\dataset\\\\mpeuni\\\\Theorems\\\\new\\\\list_all.xlsx', header = 0)\n",
    "adjacency_listT = pd.read_excel('F:\\\\dataset\\\\mpeuni\\\\Theorems\\\\new\\\\adjacency_list_Theorems_and_Axioms_only.xlsx', header = 0)\n",
    "FT = nx.from_pandas_edgelist(adjacency_listT, 'Theorem_id', 'Ref_id', create_using=nx.DiGraph())\n",
    "FM = load_file('math_scimagotop17_cleaned.pkl')\n",
    "FAPS = load_file('Cit-HepTh_cleaned.pkl')"
   ]
  },
  {
   "cell_type": "code",
   "execution_count": null,
   "id": "d3b437e0",
   "metadata": {},
   "outputs": [],
   "source": [
    "network_statistics(FT)"
   ]
  },
  {
   "cell_type": "code",
   "execution_count": null,
   "id": "7ef0690d",
   "metadata": {},
   "outputs": [],
   "source": [
    "network_statistics(FM)"
   ]
  },
  {
   "cell_type": "code",
   "execution_count": null,
   "id": "936ded4f",
   "metadata": {},
   "outputs": [],
   "source": [
    "network_statistics(FAPS)"
   ]
  },
  {
   "cell_type": "code",
   "execution_count": null,
   "id": "2e29a5b0",
   "metadata": {},
   "outputs": [],
   "source": [
    "#figure2"
   ]
  },
  {
   "cell_type": "code",
   "execution_count": null,
   "id": "09db0416",
   "metadata": {},
   "outputs": [],
   "source": [
    "FTdegree_all, FTdegreepdf, FToutdegreepdf, FTindegreepdf = degree_distribution(FT)\n",
    "FMdegree_all, FMdegreepdf, FMoutdegreepdf, FMindegreepdf = degree_distribution(FM)\n",
    "FAPSdegree_all, FAPSdegreepdf, FAPSoutdegreepdf, FAPSindegreepdf = degree_distribution(FAPS)"
   ]
  },
  {
   "cell_type": "code",
   "execution_count": null,
   "id": "cfdb00cc",
   "metadata": {},
   "outputs": [],
   "source": [
    "FTdegree_all1 = FTdegree_all[FTdegree_all['Out-degree']!=0]\n",
    "FMdegree_all1 = FMdegree_all[FMdegree_all['Out-degree']!=0]\n",
    "FAPSdegree_all1 = FAPSdegree_all[FAPSdegree_all['Out-degree']!=0]"
   ]
  },
  {
   "cell_type": "code",
   "execution_count": null,
   "id": "51850a0d",
   "metadata": {},
   "outputs": [],
   "source": [
    "spearmanr(FTdegree_all1['Out-degree'], FTdegree_all1['In-degree'])"
   ]
  },
  {
   "cell_type": "code",
   "execution_count": null,
   "id": "c4ae2498",
   "metadata": {},
   "outputs": [],
   "source": [
    "spearmanr(FMdegree_all1['Out-degree'], FMdegree_all1['In-degree'])"
   ]
  },
  {
   "cell_type": "code",
   "execution_count": null,
   "id": "d5a01eb6",
   "metadata": {},
   "outputs": [],
   "source": [
    "spearmanr(FAPSdegree_all1['Out-degree'], FAPSdegree_all1['In-degree'])"
   ]
  },
  {
   "cell_type": "code",
   "execution_count": null,
   "id": "20084218",
   "metadata": {},
   "outputs": [],
   "source": [
    "FTdegree_all2 = out_in_correlation(FTdegree_all)\n",
    "FMdegree_all2 = out_in_correlation(FMdegree_all)\n",
    "FAPSdegree_all2 = out_in_correlation(FAPSdegree_all)"
   ]
  },
  {
   "cell_type": "code",
   "execution_count": null,
   "id": "397ca5c7",
   "metadata": {},
   "outputs": [],
   "source": [
    "def percentile_bootstrap(data):\n",
    "    data = data[data['Out-degree']!=0]\n",
    "    #data = data[(data['Out-degree']!=0)&(data['In-degree']!=0)]\n",
    "    data = data.sort_values(by=['Out-degree'], ascending=True)\n",
    "    data['no'] = range(1, len(data) + 1)\n",
    "    #data['group'] = pd.qcut(data['Out-degree'].rank(method='first'), 4, labels=['group1', 'group2', 'group3', 'group4'])\n",
    "    data['group'] = pd.qcut(data['no'], 5, labels=['group1', 'group2', 'group3', 'group4', 'group5'])\n",
    "    data_q1 = data[data['group']=='group1']\n",
    "    bootstrap_means_q1 = []\n",
    "    data_q4 = data[data['group']=='group5']\n",
    "    data_all = pd.concat([data_q1, data_q4])\n",
    "    bootstrap_means_q4 = []\n",
    "    t_stat = []\n",
    "    #t_stat_obs, p_value_obs = stats.ttest_ind(data_q1['In-degree'], data_q4['In-degree'])\n",
    "    diff_obs = np.mean(data_q1['In-degree'])-np.mean(data_q4['In-degree'])\n",
    "    for i in range(1000):\n",
    "        sample1 = data_q1.sample(n=len(data_q1), replace=True)\n",
    "        bootstrap_means_q1.append(np.mean(sample1['In-degree']))\n",
    "        sample4 = data_q4.sample(n=len(data_q4), replace=True)\n",
    "        bootstrap_means_q4.append(np.mean(sample4['In-degree']))\n",
    "        data_all1 = data_all.sample(n=len(data_all), replace=True)\n",
    "        data_sample1 = list(data_all1['In-degree'])[:len(data_q1)]\n",
    "        data_sample4 = list(data_all1['In-degree'])[len(data_q1):]\n",
    "        sample_diff = np.mean(data_sample1)-np.mean(data_sample4)\n",
    "        #t_stat_1, p_value_1 = stats.ttest_ind(sample1['In-degree'], sample4['In-degree'])\n",
    "        #t_stat.append(t_stat_1)\n",
    "        t_stat.append(sample_diff)\n",
    "    p_value_fin = sum(x > diff_obs for x in t_stat)\n",
    "    return bootstrap_means_q1,bootstrap_means_q4, p_value_fin"
   ]
  },
  {
   "cell_type": "code",
   "execution_count": null,
   "id": "c669d177",
   "metadata": {},
   "outputs": [],
   "source": [
    "FTbootstrap_means_q1,FTbootstrap_means_q4,FTp_value_fin  = percentile_bootstrap(FTdegree_all)\n",
    "FMbootstrap_means_q1,FMbootstrap_means_q4,FMp_value_fin = percentile_bootstrap(FMdegree_all)\n",
    "FAPSbootstrap_means_q1,FAPSbootstrap_means_q4,FAPSp_value_fin = percentile_bootstrap(FAPSdegree_all)"
   ]
  },
  {
   "cell_type": "code",
   "execution_count": null,
   "id": "ad4edb12",
   "metadata": {},
   "outputs": [],
   "source": [
    "FTp_value_fin"
   ]
  },
  {
   "cell_type": "code",
   "execution_count": null,
   "id": "fa87c3ee",
   "metadata": {},
   "outputs": [],
   "source": [
    "FMp_value_fin"
   ]
  },
  {
   "cell_type": "code",
   "execution_count": null,
   "id": "63e0af11",
   "metadata": {},
   "outputs": [],
   "source": [
    "FAPSp_value_fin"
   ]
  },
  {
   "cell_type": "code",
   "execution_count": null,
   "id": "f479ad0f",
   "metadata": {},
   "outputs": [],
   "source": [
    "FTNMclustering = []"
   ]
  },
  {
   "cell_type": "code",
   "execution_count": null,
   "id": "b154215a",
   "metadata": {},
   "outputs": [],
   "source": [
    "for i in tqdm(range(10)):\n",
    "    name2 = 'FTheoremRN0'+str(i+1)+'.pkl'\n",
    "    FTNM = load_file(name2)\n",
    "    FTNMclustering.append(nx.average_clustering(FTNM))"
   ]
  },
  {
   "cell_type": "code",
   "execution_count": null,
   "id": "01c1df08",
   "metadata": {},
   "outputs": [],
   "source": [
    "FMNMclustering = []"
   ]
  },
  {
   "cell_type": "code",
   "execution_count": null,
   "id": "d061c21a",
   "metadata": {},
   "outputs": [],
   "source": [
    "for i in tqdm(range(10)):\n",
    "    name2 = 'FMATHRN0'+str(i+1)+'.pkl'\n",
    "    FMNM = load_file(name2)\n",
    "    FMNMclustering.append(nx.average_clustering(FMNM))"
   ]
  },
  {
   "cell_type": "code",
   "execution_count": null,
   "id": "e5464c15",
   "metadata": {},
   "outputs": [],
   "source": [
    "FAPSNMclustering = []"
   ]
  },
  {
   "cell_type": "code",
   "execution_count": null,
   "id": "061322e5",
   "metadata": {},
   "outputs": [],
   "source": [
    "for i in tqdm(range(10)):\n",
    "    name2 = 'FCit-HepThRN0'+str(i+1)+'.pkl'\n",
    "    FAPSNM = load_file(name2)\n",
    "    FAPSNMclustering.append(nx.average_clustering(FAPSNM))"
   ]
  },
  {
   "cell_type": "code",
   "execution_count": null,
   "id": "79529e5e",
   "metadata": {},
   "outputs": [],
   "source": [
    "species = ('Theorem', 'Paper (math)', 'Paper (cit-HepTh)')\n",
    "clustering = {\n",
    "    'Real networks': (0.04181, 0.10768, 0.15686),\n",
    "    'Null model': (round(np.mean(FTNMclustering),5), round(np.mean(FMNMclustering),5), round(np.mean(FAPSNMclustering),5)),\n",
    "}\n",
    "\n",
    "color_clustering = {\n",
    "    'Real networks': (colorlist['FT1'], colorlist['FM1'], colorlist['FAPS1']),\n",
    "    'Null model': (colorlist['NM'], colorlist['NM'], colorlist['NM']),\n",
    "}"
   ]
  },
  {
   "cell_type": "code",
   "execution_count": null,
   "id": "2fc9916d",
   "metadata": {},
   "outputs": [],
   "source": [
    "fig = plt.figure(figsize=(16, 8))\n",
    "grid = plt.GridSpec(2, 4, wspace=0.32, hspace=0.4)\n",
    "plt.rcParams['xtick.direction'] = 'in'\n",
    "plt.rcParams['ytick.direction'] = 'in'\n",
    "plt.rcParams['font.sans-serif'] = ['Arial']\n",
    "\n",
    "ax1 = fig.add_subplot(grid[0:1, 0:1])\n",
    "ax1.set_xscale('log')\n",
    "ax1.set_yscale('log')\n",
    "ax1.plot(FTdegreepdf['f'], FTdegreepdf['ccdf'], '-o', color=colorlist['FT1'], \n",
    "         markersize=4, markerfacecolor='#ffffff', linewidth=1, markeredgewidth=1, label='$k$')\n",
    "ax1.plot(FToutdegreepdf['f'], FToutdegreepdf['ccdf'], '-^', color=colorlist['FT2'], \n",
    "         markersize=4, markerfacecolor='#ffffff', linewidth=1, markeredgewidth=1, label='$k^{out}$')\n",
    "ax1.plot(FTindegreepdf['f'], FTindegreepdf['ccdf'], '-s', color=colorlist['FT3'], \n",
    "         markersize=4, markerfacecolor='#ffffff', linewidth=1, markeredgewidth=1, label='$k^{in}$')\n",
    "ax1.set_ylabel('Cumulative probability', fontsize=14)\n",
    "ax1.set_xlabel('Degree', fontsize=14)\n",
    "ax1.legend(frameon=False, fontsize=8)\n",
    "ax1.set_title('Theorem', fontsize=16, verticalalignment='bottom')\n",
    "\n",
    "ax2 = fig.add_subplot(grid[0:1, 1:2])\n",
    "ax2.set_xscale('log')\n",
    "ax2.set_yscale('log')\n",
    "ax2.plot(FMdegreepdf['f'], FMdegreepdf['ccdf'], '-o', color=colorlist['FM1'], \n",
    "         markersize=4, markerfacecolor='#ffffff', linewidth=1, markeredgewidth=1, label='$k$')\n",
    "ax2.plot(FMoutdegreepdf['f'], FMoutdegreepdf['ccdf'], '-^', color=colorlist['FM2'], \n",
    "         markersize=4, markerfacecolor='#ffffff', linewidth=1, markeredgewidth=1, label='$k^{out}$')\n",
    "ax2.plot(FMindegreepdf['f'], FMindegreepdf['ccdf'], '-s', color=colorlist['FM3'], \n",
    "         markersize=4, markerfacecolor='#ffffff', linewidth=1, markeredgewidth=1, label='$k^{in}$')\n",
    "ax2.set_ylabel('Cumulative probability', fontsize=14)\n",
    "ax2.set_xlabel('Degree', fontsize=14)\n",
    "ax2.legend(frameon=False, fontsize=8)\n",
    "ax2.set_title('Paper (math)', fontsize=16, verticalalignment='bottom')\n",
    "\n",
    "ax3 = fig.add_subplot(grid[0:1, 2:3])\n",
    "ax3.set_xscale('log')\n",
    "ax3.set_yscale('log')\n",
    "ax3.plot(FAPSdegreepdf['f'], FAPSdegreepdf['ccdf'], '-o', color=colorlist['FAPS1'], \n",
    "         markersize=4, markerfacecolor='#ffffff', linewidth=1, markeredgewidth=1, label='$k$')\n",
    "ax3.plot(FAPSoutdegreepdf['f'], FAPSoutdegreepdf['ccdf'], '-^', color=colorlist['FAPS2'], \n",
    "         markersize=4, markerfacecolor='#ffffff', linewidth=1, markeredgewidth=1, label='$k^{out}$')\n",
    "ax3.plot(FAPSindegreepdf['f'], FAPSindegreepdf['ccdf'], '-s', color=colorlist['FAPS3'], \n",
    "         markersize=4, markerfacecolor='#ffffff', linewidth=1, markeredgewidth=1, label='$k^{in}$')\n",
    "ax3.set_ylabel('Cumulative probability', fontsize=14)\n",
    "ax3.set_xlabel('Degree', fontsize=14)\n",
    "ax3.legend(frameon=False, fontsize=8)\n",
    "ax3.set_title('Paper (cit-HepTh)', fontsize=16, verticalalignment='bottom')\n",
    "\n",
    "#图d\n",
    "ax4 = fig.add_subplot(grid[1:2, 0:1])\n",
    "ax4.set_xscale('log')\n",
    "ax4.set_yscale('log')\n",
    "ax4.errorbar(FTdegree_all2.index, FTdegree_all2['mean'], yerr=FTdegree_all2['sem'], fmt='o-',\n",
    "             ecolor=colorlist['FT1'], color=colorlist['FT1'], capsize=0,capthick=0, \n",
    "             markerfacecolor=colorlist['FT3'], markeredgewidth=1.5, elinewidth=1.5, markersize=6,\n",
    "             label='Overall')\n",
    "#ax3.set_ylim(1,100)\n",
    "ax4.set_xlabel('$k^{out}$', fontsize=14)\n",
    "ax4.set_ylabel('$<k^{in}>$', fontsize=14)\n",
    "\n",
    "ax7 = fig.add_axes([0.19, 0.31, 0.085, 0.12])\n",
    "hist1, bin_edges1 = np.histogram(FTbootstrap_means_q4, bins=10)\n",
    "bin_mids1 = (bin_edges1[:-1] + bin_edges1[1:]) / 2\n",
    "hist1 = hist1 / 1000\n",
    "ax7.plot(bin_mids1, hist1, '-^', linewidth=1, markerfacecolor='#ffffff', color=colorlist['FT1'], label='Top 20% $k^{out}$')\n",
    "hist2, bin_edges2 = np.histogram(FTbootstrap_means_q1, bins=10)\n",
    "bin_mids2 = (bin_edges2[:-1] + bin_edges2[1:]) / 2\n",
    "hist2 = hist2 / 1000\n",
    "ax7.plot(bin_mids2, hist2, '-s', linewidth=1, markerfacecolor='#ffffff', color=colorlist['FT1'], label='Last 20% $k^{out}$')\n",
    "ax7.set_ylim(0,0.3)\n",
    "ax7.set_xlabel('Bootstrap $<k^{in}>$', fontsize=10, labelpad=0)\n",
    "ax7.set_ylabel('Probability', fontsize=10)\n",
    "\n",
    "\n",
    "h1, l1 = ax4.get_legend_handles_labels()\n",
    "h2, l2 = ax7.get_legend_handles_labels()\n",
    "ax4.legend(h1+h2, l1+l2, frameon=True, fontsize=8, loc='lower left', \n",
    "           facecolor='#ffffff', framealpha=0.4, edgecolor=(255/255,255/255,255/255,0.4))\n",
    "\n",
    "ax4.set_title('Theorem', fontsize=16, verticalalignment='bottom')\n",
    "\n",
    "#图e\n",
    "ax5 = fig.add_subplot(grid[1:2, 1:2])\n",
    "ax5.set_xscale('log')\n",
    "ax5.set_yscale('log')\n",
    "ax5.errorbar(FMdegree_all2.index, FMdegree_all2['mean'], yerr=FMdegree_all2['sem'], fmt='o-',\n",
    "             ecolor=colorlist['FM1'], color=colorlist['FM1'], capsize=0,capthick=0, \n",
    "             markerfacecolor=colorlist['FM3'], markeredgewidth=1.5, elinewidth=1.5, markersize=6,\n",
    "             label='Overall')\n",
    "ax5.set_ylim(2.5,20)\n",
    "ax5.yaxis.set_minor_formatter(matplotlib.ticker.NullFormatter())\n",
    "ax5.set_xlabel('$k^{out}$', fontsize=14)\n",
    "ax5.set_ylabel('$<k^{in}>$', fontsize=14)\n",
    "\n",
    "ax8 = fig.add_axes([0.365, 0.31, 0.085, 0.12])\n",
    "hist1, bin_edges1 = np.histogram(FMbootstrap_means_q4, bins=10)\n",
    "bin_mids1 = (bin_edges1[:-1] + bin_edges1[1:]) / 2\n",
    "hist1 = hist1 / 1000\n",
    "ax8.plot(bin_mids1, hist1, '-^', linewidth=1, markerfacecolor='#ffffff', color=colorlist['FM1'], label='Top 20% $k^{out}$')\n",
    "hist2, bin_edges2 = np.histogram(FMbootstrap_means_q1, bins=10)\n",
    "bin_mids2 = (bin_edges2[:-1] + bin_edges2[1:]) / 2\n",
    "hist2 = hist2 / 1000\n",
    "ax8.plot(bin_mids2, hist2, '-s', linewidth=1, markerfacecolor='#ffffff', color=colorlist['FM1'], label='Last 20% $k^{out}$')\n",
    "ax8.set_ylim(0,0.3)\n",
    "ax8.set_xlabel('Bootstrap $<k^{in}>$', fontsize=10, labelpad=0)\n",
    "ax8.set_ylabel('Probability', fontsize=10)\n",
    "\n",
    "h1, l1 = ax5.get_legend_handles_labels()\n",
    "h2, l2 = ax8.get_legend_handles_labels()\n",
    "ax5.legend(h1+h2, l1+l2, frameon=True, fontsize=8, loc='lower right', \n",
    "           facecolor='#ffffff', framealpha=0.4, edgecolor=(255/255,255/255,255/255,0.4))\n",
    "\n",
    "ax5.set_title('Paper (math)', fontsize=16, verticalalignment='bottom')\n",
    "#ax5.set_ylim(0.85,16)\n",
    "\n",
    "#图f\n",
    "ax6 = fig.add_subplot(grid[1:2, 2:3])\n",
    "ax6.set_xscale('log')\n",
    "ax6.set_yscale('log')\n",
    "ax6.errorbar(FAPSdegree_all2.index, FAPSdegree_all2['mean'], yerr=FAPSdegree_all2['sem'], fmt='o-',\n",
    "             ecolor=colorlist['FAPS1'], color=colorlist['FAPS1'], capsize=0,capthick=0, \n",
    "             markerfacecolor=colorlist['FAPS3'], markeredgewidth=1.5, elinewidth=1.5, markersize=6,\n",
    "             label='Overall')\n",
    "#ax3.set_ylim(1,100)\n",
    "ax6.set_xlabel('$k^{out}$', fontsize=14)\n",
    "ax6.set_ylabel('$<k^{in}>$', fontsize=14)\n",
    "\n",
    "ax9 = fig.add_axes([0.57, 0.31, 0.085, 0.12])\n",
    "hist1, bin_edges1 = np.histogram(FAPSbootstrap_means_q4, bins=10)\n",
    "bin_mids1 = (bin_edges1[:-1] + bin_edges1[1:]) / 2\n",
    "hist1 = hist1 / 1000\n",
    "ax9.plot(bin_mids1, hist1, '-^', linewidth=1, markerfacecolor='#ffffff', color=colorlist['FAPS1'], label='Top 20% $k^{out}$')\n",
    "hist2, bin_edges2 = np.histogram(FAPSbootstrap_means_q1, bins=10)\n",
    "bin_mids2 = (bin_edges2[:-1] + bin_edges2[1:]) / 2\n",
    "hist2 = hist2 / 1000\n",
    "ax9.plot(bin_mids2, hist2, '-s', linewidth=1, markerfacecolor='#ffffff', color=colorlist['FAPS1'], label='Last 20% $k^{out}$')\n",
    "ax9.set_ylim(0,0.3)\n",
    "ax9.set_xlabel('Bootstrap $<k^{in}>$', fontsize=10, labelpad=0)\n",
    "ax9.set_ylabel('Probability', fontsize=10)\n",
    "\n",
    "h1, l1 = ax6.get_legend_handles_labels()\n",
    "h2, l2 = ax9.get_legend_handles_labels()\n",
    "\n",
    "ax6.legend(h1+h2, l1+l2, frameon=True, fontsize=8, loc='lower right', \n",
    "           facecolor='#ffffff', framealpha=0.4, edgecolor=(255/255,255/255,255/255,0.4))\n",
    "\n",
    "ax6.set_title('Paper (cit-HepTh)', fontsize=16, verticalalignment='bottom')\n",
    "\n",
    "ax10 = fig.add_subplot(grid[0:2, 3:4])\n",
    "\n",
    "x = np.arange(len(species))\n",
    "width = 0.25\n",
    "multiplier = 0.5\n",
    "\n",
    "rect1 = patches.Rectangle((-0.02, -0.3), 0.02, 2.925, fill=True,\n",
    "                         edgecolor='none', facecolor='#c9e2a8',alpha=0.2)\n",
    "ax10.add_patch(rect1)\n",
    "\n",
    "for (attribute1, color_c),(attribute2, measurement) in zip(color_clustering.items(),clustering.items()):\n",
    "    offset = width * multiplier\n",
    "    rects = ax10.barh(x + offset, measurement, width, label=attribute2, color=color_c)\n",
    "    ax10.bar_label(rects, padding=2)\n",
    "    multiplier += 1\n",
    "#ax10.axhline(y=0, xmin=0, xmax=1, color='#252525', linestyle='--')\n",
    "\n",
    "ax10.set_xlabel('Average clustering coefficient', fontsize=14, labelpad=4)\n",
    "ax10.set_ylabel('Network', fontsize=14, labelpad=4)\n",
    "ax10.set_yticks(x + width)\n",
    "ax10.set_yticklabels(species, rotation='vertical', ha='right', va='center')\n",
    "ax10.set_ylim(-0.3,2.625)\n",
    "ax10.set_xlim(-0.02,0.22)\n",
    "ax10.set_xticks([0,0.04,0.08,0.12,0.16, 0.20])\n",
    "ax10.tick_params(axis='both', which='major', pad=7.5)\n",
    "ax10.legend(frameon=False, fontsize=10, loc='upper right')\n",
    "#ax10.set_xticklabels([0,0.02,0.04,0.06,0.08,0.10,0.12,0.14,0.16])\n",
    "#ax10.set_yticklabels(ax10.get_yticks(), rotation=90)\n",
    "ax10.invert_yaxis()\n",
    "\n",
    "#编号\n",
    "ax1.text(-0.28, 1.09, 'a', size=14, weight='bold', transform=ax1.transAxes)\n",
    "ax2.text(-0.28, 1.09, 'b', size=14, weight='bold', transform=ax2.transAxes)\n",
    "ax3.text(-0.28, 1.09, 'c', size=14, weight='bold', transform=ax3.transAxes)\n",
    "ax4.text(-0.28, 1.09, 'd', size=14, weight='bold', transform=ax4.transAxes)\n",
    "ax5.text(-0.28, 1.09, 'e', size=14, weight='bold', transform=ax5.transAxes)\n",
    "ax6.text(-0.28, 1.09, 'f', size=14, weight='bold', transform=ax6.transAxes)\n",
    "ax10.text(-0.22, 1.04, 'g', size=14, weight='bold', transform=ax10.transAxes)"
   ]
  },
  {
   "cell_type": "code",
   "execution_count": null,
   "id": "7acae6bd",
   "metadata": {},
   "outputs": [],
   "source": [
    "#figure3"
   ]
  },
  {
   "cell_type": "code",
   "execution_count": null,
   "id": "ff53a878",
   "metadata": {},
   "outputs": [],
   "source": [
    "FTDisruption = load_file('Disruptiondata定理D10.pkl')\n",
    "FMDisruption = load_file('Disruptiondata数学D10.pkl')\n",
    "FAPSDisruption = load_file('Disruptiondata-cit10.pkl')"
   ]
  },
  {
   "cell_type": "code",
   "execution_count": null,
   "id": "fb7c6580",
   "metadata": {},
   "outputs": [],
   "source": [
    "Glistlabel = ['0-10%', '10-20%', '20-30%', '30-40%', '40-50%', '50-60%', '60-70%', '70-80%', '80-90%', '90-100%']"
   ]
  },
  {
   "cell_type": "code",
   "execution_count": null,
   "id": "2b395f1d",
   "metadata": {},
   "outputs": [],
   "source": [
    "FTdisruption_correlation = disruption_correlation(FT,FTDisruption)\n",
    "FMdisruption_correlation = disruption_correlation(FM,FMDisruption)\n",
    "FAPSdisruption_correlation = disruption_correlation(FAPS,FAPSDisruption)"
   ]
  },
  {
   "cell_type": "code",
   "execution_count": null,
   "id": "de926ab9",
   "metadata": {},
   "outputs": [],
   "source": [
    "FTdisruption_correlation[0]['Disruption'].mean()"
   ]
  },
  {
   "cell_type": "code",
   "execution_count": null,
   "id": "99367b74",
   "metadata": {},
   "outputs": [],
   "source": [
    "FMdisruption_correlation[0]['Disruption'].mean()"
   ]
  },
  {
   "cell_type": "code",
   "execution_count": null,
   "id": "4360371f",
   "metadata": {},
   "outputs": [],
   "source": [
    "FAPSdisruption_correlation[0]['Disruption'].mean()"
   ]
  },
  {
   "cell_type": "code",
   "execution_count": null,
   "id": "dbbbe715",
   "metadata": {},
   "outputs": [],
   "source": [
    "pearsonr(FTdisruption_correlation[0]['Disruption'],FTdisruption_correlation[0]['Citation'])"
   ]
  },
  {
   "cell_type": "code",
   "execution_count": null,
   "id": "3050c6bd",
   "metadata": {},
   "outputs": [],
   "source": [
    "pearsonr(FMdisruption_correlation[0]['Disruption'],FMdisruption_correlation[0]['Citation'])"
   ]
  },
  {
   "cell_type": "code",
   "execution_count": null,
   "id": "f7cf2d6f",
   "metadata": {},
   "outputs": [],
   "source": [
    "pearsonr(FAPSdisruption_correlation[0]['Disruption'],FAPSdisruption_correlation[0]['Citation'])"
   ]
  },
  {
   "cell_type": "code",
   "execution_count": null,
   "id": "06c163a9",
   "metadata": {},
   "outputs": [],
   "source": [
    "def min_max_scaling(data):\n",
    "    min_val = np.min(data)\n",
    "    max_val = np.max(data)\n",
    "    return (data - min_val) / (max_val - min_val)"
   ]
  },
  {
   "cell_type": "code",
   "execution_count": null,
   "id": "d0cc64c8",
   "metadata": {},
   "outputs": [],
   "source": [
    "def gini_coefficient(FTDisruption):\n",
    "    FTDisruption = FTDisruption.sort_values(by=['Disruption'], ascending=True)\n",
    "    FTDisruption1 = np.array(FTDisruption['Disruption'])\n",
    "    x = min_max_scaling(FTDisruption1)\n",
    "    diffsum = 0\n",
    "    for i, xi in enumerate(x[:-1], 1):\n",
    "        diffsum += np.sum(np.abs(xi - x[i:]))\n",
    "    gini = diffsum / (len(x)**2 * np.mean(x))\n",
    "    return gini"
   ]
  },
  {
   "cell_type": "code",
   "execution_count": null,
   "id": "c2c95f4f",
   "metadata": {},
   "outputs": [],
   "source": [
    "FTgini = gini_coefficient(FTdisruption_correlation[0])\n",
    "FMgini = gini_coefficient(FMdisruption_correlation[0])\n",
    "FAPSgini = gini_coefficient(FAPSdisruption_correlation[0])"
   ]
  },
  {
   "cell_type": "code",
   "execution_count": null,
   "id": "83f70341",
   "metadata": {},
   "outputs": [],
   "source": [
    "FTpearsonr_pearsonrc2 = FTdisruption_correlation[1][len(Glistlabel)-1][0]\n",
    "FMpearsonr_pearsonrc2 = FMdisruption_correlation[1][len(Glistlabel)-1][0]\n",
    "FAPSpearsonr_pearsonrc2 = FAPSdisruption_correlation[1][len(Glistlabel)-1][0]"
   ]
  },
  {
   "cell_type": "code",
   "execution_count": null,
   "id": "f5b252a2",
   "metadata": {},
   "outputs": [],
   "source": [
    "FTNMDisruption = []\n",
    "FMNMDisruption = []\n",
    "FAPSNMDisruption = []"
   ]
  },
  {
   "cell_type": "code",
   "execution_count": null,
   "id": "f33ef875",
   "metadata": {},
   "outputs": [],
   "source": [
    "FTNMDisruption_mean = []\n",
    "FMNMDisruption_mean = []\n",
    "FAPSNMDisruption_mean = []"
   ]
  },
  {
   "cell_type": "code",
   "execution_count": null,
   "id": "f71bd2de",
   "metadata": {},
   "outputs": [],
   "source": [
    "FTNMgini = []\n",
    "FMNMgini = []\n",
    "FAPSNMgini = []"
   ]
  },
  {
   "cell_type": "code",
   "execution_count": null,
   "id": "e2b67980",
   "metadata": {},
   "outputs": [],
   "source": [
    "FTNMpearsonr_pearsonrc2 = []\n",
    "FMNMpearsonr_pearsonrc2 = []\n",
    "FAPSNMpearsonr_pearsonrc2 = []"
   ]
  },
  {
   "cell_type": "code",
   "execution_count": null,
   "id": "5050e046",
   "metadata": {},
   "outputs": [],
   "source": [
    "for i in tqdm(range(10)):\n",
    "    name1 = 'Disruptiondata10FTheoremRN0'+str(i+1)+'.pkl'\n",
    "    name2 = 'FTheoremRN0'+str(i+1)+'.pkl'\n",
    "    FTNMDisruption1 = load_file(name1)\n",
    "    FTNM1 = load_file(name2)\n",
    "    FTNMdegree_all1, FTNMdegreepdf1, FTNMoutdegreepdf1, FTNMindegreepdf1 = degree_distribution(FTNM1)\n",
    "    FTNMDisruption1 = pd.merge(FTNMDisruption1, FTNMdegree_all1, left_index=True, right_index=True)\n",
    "    FTNMDisruption1['Clustering'] = None\n",
    "    FTNMDisruption1['Citation'] = FTNMDisruption1['ni'] + FTNMDisruption1['nj']\n",
    "    FTNMDisruption1.columns = ['Generation','Disruption','nj','ni','nk','Degree','Out-degree','In-degree','Clustering','Citation']\n",
    "    FTNMdisruption_correlation1 = disruption_correlation(FTNM1,FTNMDisruption1)\n",
    "    FTNMDisruption.append(pearsonr(FTNMdisruption_correlation1[0]['Disruption'],FTNMdisruption_correlation1[0]['Citation'])[0])\n",
    "    FTNMDisruption_mean.append(np.mean(FTNMdisruption_correlation1[0]['Disruption']))\n",
    "    FTNMgini.append(gini_coefficient(FTNMdisruption_correlation1[0]))\n",
    "    FTNMpearsonr_pearsonrc2.append(FTNMdisruption_correlation1[1][len(Glistlabel)-1][0])"
   ]
  },
  {
   "cell_type": "code",
   "execution_count": null,
   "id": "3c1539bc",
   "metadata": {},
   "outputs": [],
   "source": [
    "for i in tqdm(range(10)):\n",
    "    name1 = 'Disruptiondata10FMATHRN0'+str(i+1)+'.pkl'\n",
    "    name2 = 'FMATHRN0'+str(i+1)+'.pkl'\n",
    "    FTNMDisruption1 = load_file(name1)\n",
    "    FTNM1 = load_file(name2)\n",
    "    FTNMdegree_all1, FTNMdegreepdf1, FTNMoutdegreepdf1, FTNMindegreepdf1 = degree_distribution(FTNM1)\n",
    "    FTNMDisruption1 = pd.merge(FTNMDisruption1, FTNMdegree_all1, left_index=True, right_index=True)\n",
    "    FTNMDisruption1['Clustering'] = None\n",
    "    FTNMDisruption1['Citation'] = FTNMDisruption1['ni'] + FTNMDisruption1['nj']\n",
    "    FTNMDisruption1.columns = ['Generation','Disruption','nj','ni','nk','Degree','Out-degree','In-degree','Clustering','Citation']\n",
    "    FTNMdisruption_correlation1 = disruption_correlation(FTNM1,FTNMDisruption1)\n",
    "    FMNMDisruption.append(pearsonr(FTNMdisruption_correlation1[0]['Disruption'],FTNMdisruption_correlation1[0]['Citation'])[0])\n",
    "    FMNMDisruption_mean.append(np.mean(FTNMdisruption_correlation1[0]['Disruption']))\n",
    "    FMNMgini.append(gini_coefficient(FTNMdisruption_correlation1[0]))\n",
    "    FMNMpearsonr_pearsonrc2.append(FTNMdisruption_correlation1[1][len(Glistlabel)-1][0])"
   ]
  },
  {
   "cell_type": "code",
   "execution_count": null,
   "id": "9953c03b",
   "metadata": {},
   "outputs": [],
   "source": [
    "for i in tqdm(range(10)):\n",
    "    name1 = 'Disruptiondata10FCit-HepThRN0'+str(i+1)+'.pkl'\n",
    "    name2 = 'FCit-HepThRN0'+str(i+1)+'.pkl'\n",
    "    FTNMDisruption1 = load_file(name1)\n",
    "    FTNM1 = load_file(name2)\n",
    "    FTNMdegree_all1, FTNMdegreepdf1, FTNMoutdegreepdf1, FTNMindegreepdf1 = degree_distribution(FTNM1)\n",
    "    FTNMDisruption1 = pd.merge(FTNMDisruption1, FTNMdegree_all1, left_index=True, right_index=True)\n",
    "    FTNMDisruption1['Clustering'] = None\n",
    "    FTNMDisruption1['Citation'] = FTNMDisruption1['ni'] + FTNMDisruption1['nj']\n",
    "    FTNMDisruption1.columns = ['Generation','Disruption','nj','ni','nk','Degree','Out-degree','In-degree','Clustering','Citation']\n",
    "    FTNMdisruption_correlation1 = disruption_correlation(FTNM1,FTNMDisruption1)\n",
    "    FAPSNMDisruption.append(pearsonr(FTNMdisruption_correlation1[0]['Disruption'],FTNMdisruption_correlation1[0]['Citation'])[0])\n",
    "    FAPSNMDisruption_mean.append(np.mean(FTNMdisruption_correlation1[0]['Disruption']))\n",
    "    FAPSNMgini.append(gini_coefficient(FTNMdisruption_correlation1[0]))\n",
    "    FAPSNMpearsonr_pearsonrc2.append(FTNMdisruption_correlation1[1][len(Glistlabel)-1][0])"
   ]
  },
  {
   "cell_type": "code",
   "execution_count": null,
   "id": "83bdadb3",
   "metadata": {},
   "outputs": [],
   "source": [
    "np.mean(FTNMDisruption_mean)"
   ]
  },
  {
   "cell_type": "code",
   "execution_count": null,
   "id": "a8add957",
   "metadata": {},
   "outputs": [],
   "source": [
    "np.mean(FMNMDisruption_mean)"
   ]
  },
  {
   "cell_type": "code",
   "execution_count": null,
   "id": "5625974e",
   "metadata": {},
   "outputs": [],
   "source": [
    "np.mean(FAPSNMDisruption_mean)"
   ]
  },
  {
   "cell_type": "code",
   "execution_count": null,
   "id": "5f4582e9",
   "metadata": {},
   "outputs": [],
   "source": [
    "np.mean(FTNMDisruption)"
   ]
  },
  {
   "cell_type": "code",
   "execution_count": null,
   "id": "df858f46",
   "metadata": {},
   "outputs": [],
   "source": [
    "np.mean(FMNMDisruption)"
   ]
  },
  {
   "cell_type": "code",
   "execution_count": null,
   "id": "94bc67fa",
   "metadata": {},
   "outputs": [],
   "source": [
    "np.mean(FAPSNMDisruption)"
   ]
  },
  {
   "cell_type": "code",
   "execution_count": null,
   "id": "81b3a7e5",
   "metadata": {},
   "outputs": [],
   "source": [
    "(0.19310264578128114-np.mean(FTNMDisruption))/np.std(FTNMDisruption)"
   ]
  },
  {
   "cell_type": "code",
   "execution_count": null,
   "id": "31ebf417",
   "metadata": {},
   "outputs": [],
   "source": [
    "(0.030700363339169895-np.mean(FMNMDisruption))/np.std(FMNMDisruption)"
   ]
  },
  {
   "cell_type": "code",
   "execution_count": null,
   "id": "70ee543e",
   "metadata": {},
   "outputs": [],
   "source": [
    "(-0.03999610460183501-np.mean(FAPSNMDisruption))/np.std(FAPSNMDisruption)"
   ]
  },
  {
   "cell_type": "code",
   "execution_count": null,
   "id": "4bded6dc",
   "metadata": {},
   "outputs": [],
   "source": [
    "def percentile_bootstrap1(data):\n",
    "    data = data.sort_values(by=['Citation'], ascending=True)\n",
    "    data['no'] = range(1, len(data) + 1)\n",
    "    #data['group'] = pd.qcut(data['Out-degree'].rank(method='first'), 4, labels=['group1', 'group2', 'group3', 'group4'])\n",
    "    data['group'] = pd.qcut(data['no'], 5, labels=['group1', 'group2', 'group3', 'group4', 'group5'])\n",
    "    data_q1 = data[data['group']=='group1']\n",
    "    bootstrap_means_q1 = []\n",
    "    data_q4 = data[data['group']=='group5']\n",
    "    data_all = pd.concat([data_q1, data_q4])\n",
    "    bootstrap_means_q4 = []\n",
    "    t_stat = []\n",
    "    #t_stat_obs, p_value_obs = stats.ttest_ind(data_q1['In-degree'], data_q4['In-degree'])\n",
    "    diff_obs = np.mean(data_q1['Disruption'])-np.mean(data_q4['Disruption'])\n",
    "    for i in range(1000):\n",
    "        sample1 = data_q1.sample(n=len(data_q1), replace=True)\n",
    "        bootstrap_means_q1.append(np.mean(sample1['Disruption']))\n",
    "        sample4 = data_q4.sample(n=len(data_q4), replace=True)\n",
    "        bootstrap_means_q4.append(np.mean(sample4['Disruption']))\n",
    "        data_all1 = data_all.sample(n=len(data_all), replace=True)\n",
    "        data_sample1 = list(data_all1['Disruption'])[:len(data_q1)]\n",
    "        data_sample4 = list(data_all1['Disruption'])[len(data_q1):]\n",
    "        sample_diff = np.mean(data_sample1)-np.mean(data_sample4)\n",
    "        #t_stat_1, p_value_1 = stats.ttest_ind(sample1['In-degree'], sample4['In-degree'])\n",
    "        #t_stat.append(t_stat_1)\n",
    "        t_stat.append(sample_diff)\n",
    "    p_value_fin = sum(x > diff_obs for x in t_stat)\n",
    "    return bootstrap_means_q1,bootstrap_means_q4, p_value_fin"
   ]
  },
  {
   "cell_type": "code",
   "execution_count": null,
   "id": "00cc1300",
   "metadata": {},
   "outputs": [],
   "source": [
    "FTDCbootstrap_means_q1,FTDCbootstrap_means_q4,FTDCp_value_fin  = percentile_bootstrap1(FTdisruption_correlation[0])\n",
    "FMDCbootstrap_means_q1,FMDCbootstrap_means_q4,FMDCp_value_fin = percentile_bootstrap1(FMdisruption_correlation[0])\n",
    "FAPSDCbootstrap_means_q1,FAPSDCbootstrap_means_q4,FAPSDCp_value_fin = percentile_bootstrap1(FAPSdisruption_correlation[0])"
   ]
  },
  {
   "cell_type": "code",
   "execution_count": null,
   "id": "36c8d009",
   "metadata": {},
   "outputs": [],
   "source": [
    "species = ('Theorem', 'Paper (math)', 'Paper (cit-HepTh)')\n",
    "clustering = {\n",
    "    'Real networks': (round(FTdisruption_correlation[0]['Disruption'].mean(),5), round(FMdisruption_correlation[0]['Disruption'].mean(),5),\n",
    "                     round(FAPSdisruption_correlation[0]['Disruption'].mean(),5)),\n",
    "    'Null model': (round(np.mean(FTNMDisruption_mean),5), round(np.mean(FMNMDisruption_mean),5),\n",
    "                     round(np.mean(FAPSNMDisruption_mean),5)),\n",
    "}\n",
    "\n",
    "Gini = {\n",
    "    'Real networks': (round(FTgini,5), \n",
    "                      round(FMgini,5), \n",
    "                      round(FAPSgini,5)),\n",
    "    'Null model': (round(np.mean(FTNMgini),5), round(np.mean(FMNMgini),5),\n",
    "                     round(np.mean(FAPSNMgini),5)),\n",
    "}\n",
    "    \n",
    "DC_correlation = {\n",
    "    'Real networks': (0.19310, 0.03070, -0.04000),\n",
    "    'Null model': (round(np.mean(FTNMDisruption),5), round(np.mean(FMNMDisruption),5),\n",
    "                     round(np.mean(FAPSNMDisruption),5)),\n",
    "}\n",
    "\n",
    "DC_correlation1 = {\n",
    "    'Real networks': (round(FTpearsonr_pearsonrc2,5), \n",
    "                      round(FMpearsonr_pearsonrc2,5), \n",
    "                      round(FAPSpearsonr_pearsonrc2,5)),\n",
    "    'Null model': (round(np.mean(FTNMpearsonr_pearsonrc2),5), round(np.mean(FMNMpearsonr_pearsonrc2),5),\n",
    "                     round(np.mean(FAPSNMpearsonr_pearsonrc2),5)),\n",
    "}\n",
    "\n",
    "color_clustering = {\n",
    "    'Real networks': (colorlist['FT1'], colorlist['FM1'], colorlist['FAPS1']),\n",
    "    'Null model': (colorlist['NM'], colorlist['NM'], colorlist['NM']),\n",
    "}"
   ]
  },
  {
   "cell_type": "code",
   "execution_count": null,
   "id": "911ffc22",
   "metadata": {},
   "outputs": [],
   "source": [
    "fig = plt.figure(figsize=(16, 12))\n",
    "grid = plt.GridSpec(6, 8)\n",
    "plt.rcParams['xtick.direction'] = 'in'\n",
    "plt.rcParams['ytick.direction'] = 'in'\n",
    "plt.rcParams['font.sans-serif'] = ['Arial']\n",
    "\n",
    "x = np.arange(len(species))\n",
    "width = 0.25\n",
    "multiplier = 0.5\n",
    "\n",
    "ax1 = fig.add_subplot(grid[0:3, 0:3])\n",
    "\n",
    "rect1 = patches.Rectangle((-0.125, -0.13), 2.825, 0.13, fill=True,\n",
    "                         edgecolor='none', facecolor='#c9e2a8',alpha=0.2)\n",
    "ax1.add_patch(rect1)\n",
    "\n",
    "for (attribute1, color_c),(attribute2, measurement) in zip(color_clustering.items(),clustering.items()):\n",
    "    offset = width * multiplier\n",
    "    rects = ax1.bar(x + offset, measurement, width, label=attribute2, color=color_c)\n",
    "    ax1.bar_label(rects, padding=2)\n",
    "    multiplier += 1\n",
    "#ax1.axhline(y=0, xmin=0, xmax=1, color='#252525', linestyle='--')\n",
    "\n",
    "ax1.set_ylabel('Average disruption', fontsize=14, labelpad=4)\n",
    "ax1.set_xlabel('Network', fontsize=14, labelpad=4)\n",
    "ax1.set_xticks(x + width)\n",
    "ax1.set_xticklabels(species)\n",
    "ax1.set_xlim(-0.125,2.625)\n",
    "ax1.set_ylim(-0.12,0.3)\n",
    "ax1.tick_params(axis='both', which='major', pad=7.5)\n",
    "#ax1.set_yticks([0,0.02,0.04,0.06,0.08,0.10,0.12,0.14,0.16])\n",
    "ax1.legend(frameon=False, fontsize=12,loc='upper right', ncol=2)\n",
    "\n",
    "x = np.arange(len(species))\n",
    "width = 0.25\n",
    "multiplier = 0.5\n",
    "\n",
    "ax2 = fig.add_subplot(grid[0:3, 3:6])\n",
    "rect2 = patches.Rectangle((-0.125, -0.2275), 2.825, 0.2275, fill=True,\n",
    "                         edgecolor='none', facecolor='#c9e2a8',alpha=0.2)\n",
    "ax2.add_patch(rect2)\n",
    "\n",
    "for (attribute1, color_c),(attribute2, measurement) in zip(color_clustering.items(),Gini.items()):\n",
    "    offset = width * multiplier\n",
    "    rects = ax2.bar(x + offset, measurement, width, label=attribute2, color=color_c)\n",
    "    ax2.bar_label(rects, padding=3)\n",
    "    multiplier += 1\n",
    "ax2.set_xlabel('Network', fontsize=14, labelpad=4)\n",
    "ax2.set_ylabel('Gini coefficient of disruption', fontsize=14, labelpad=4)\n",
    "ax2.set_xticks(x + width)\n",
    "ax2.set_xticklabels(species)\n",
    "ax2.set_xlim(-0.125,2.625)\n",
    "ax2.set_ylim(-0.1,0.25)\n",
    "ax2.tick_params(axis='both', which='major', pad=7.5)\n",
    "ax2.legend(frameon=False, fontsize=12, loc='upper right',ncol=2)\n",
    "\n",
    "x = np.arange(len(species))\n",
    "width = 0.25\n",
    "multiplier = 0.5\n",
    "\n",
    "ax3 = fig.add_subplot(grid[3:6, 0:3])\n",
    "\n",
    "rect3 = patches.Rectangle((-0.125, -0.2275), 2.825, 0.2275, fill=True,\n",
    "                         edgecolor='none', facecolor='#c9e2a8',alpha=0.2)\n",
    "ax3.add_patch(rect3)\n",
    "\n",
    "for (attribute1, color_c),(attribute2, measurement) in zip(color_clustering.items(),DC_correlation.items()):\n",
    "    offset = width * multiplier\n",
    "    rects = ax3.bar(x + offset, measurement, width, label=attribute2, color=color_c)\n",
    "    ax3.bar_label(rects, padding=3)\n",
    "    multiplier += 1\n",
    "ax3.set_ylabel('Correlation (Disruption, Citations)', fontsize=14, labelpad=4)\n",
    "ax3.set_xlabel('Network', fontsize=14, labelpad=4)\n",
    "ax3.set_xticks(x + width)\n",
    "ax3.set_xticklabels(species)\n",
    "ax3.set_xlim(-0.125,2.625)\n",
    "ax3.set_ylim(-0.08,0.6)\n",
    "ax3.tick_params(axis='both', which='major', pad=7.5)\n",
    "ax3.legend(frameon=False, fontsize=12, loc='upper right',ncol=2)\n",
    "\n",
    "x = np.arange(len(species))\n",
    "width = 0.25\n",
    "multiplier = 0.5\n",
    "\n",
    "ax4 = fig.add_subplot(grid[3:6, 3:6])\n",
    "rect4 = patches.Rectangle((-0.125, -0.2275), 2.825, 0.2275, fill=True,\n",
    "                         edgecolor='none', facecolor='#c9e2a8',alpha=0.2)\n",
    "ax4.add_patch(rect4)\n",
    "\n",
    "for (attribute1, color_c),(attribute2, measurement) in zip(color_clustering.items(),DC_correlation1.items()):\n",
    "    offset = width * multiplier\n",
    "    rects = ax4.bar(x + offset, measurement, width, label=attribute2, color=color_c)\n",
    "    ax4.bar_label(rects, padding=3)\n",
    "    multiplier += 1\n",
    "ax4.set_ylabel('Correlation (Disruption, Citations) (Top 10% Citations)', fontsize=12, labelpad=4)\n",
    "ax4.set_xlabel('Network', fontsize=14, labelpad=4)\n",
    "ax4.set_xticks(x + width)\n",
    "ax4.set_xticklabels(species)\n",
    "ax4.set_xlim(-0.125,2.625)\n",
    "ax4.set_ylim(-0.08,0.6)\n",
    "ax4.tick_params(axis='both', which='major', pad=7.5)\n",
    "ax4.legend(frameon=False, fontsize=12, loc='upper right',ncol=2)\n",
    "\n",
    "ax5 = fig.add_subplot(grid[0:2, 6:8])\n",
    "hist1, bin_edges1 = np.histogram(FTDCbootstrap_means_q4, bins=10)\n",
    "bin_mids1 = (bin_edges1[:-1] + bin_edges1[1:]) / 2\n",
    "hist1 = hist1 / 1000\n",
    "ax5.plot(bin_mids1, hist1, '-^', linewidth=1, markerfacecolor='#ffffff', color=colorlist['FT1'], label='Top 20% Citations')\n",
    "hist2, bin_edges2 = np.histogram(FTDCbootstrap_means_q1, bins=10)\n",
    "bin_mids2 = (bin_edges2[:-1] + bin_edges2[1:]) / 2\n",
    "hist2 = hist2 / 1000\n",
    "ax5.plot(bin_mids2, hist2, '-s', linewidth=1, markerfacecolor='#ffffff', color=colorlist['FT1'], label='Last 20% Citations')\n",
    "ax5.set_ylim(0,0.4)\n",
    "ax5.set_xlabel('Bootstrap $<Disruption>$', fontsize=14, labelpad=4)\n",
    "ax5.set_ylabel('Probability', fontsize=14)\n",
    "ax5.legend(frameon=False, fontsize=10, loc='upper right',ncol=1)\n",
    "ax5.tick_params(axis='both', which='major', pad=7.5)\n",
    "ax5.set_title('Theorem', fontsize=16, verticalalignment='bottom')\n",
    "\n",
    "ax6 = fig.add_subplot(grid[2:4, 6:8])\n",
    "hist1, bin_edges1 = np.histogram(FMDCbootstrap_means_q4, bins=10)\n",
    "bin_mids1 = (bin_edges1[:-1] + bin_edges1[1:]) / 2\n",
    "hist1 = hist1 / 1000\n",
    "ax6.plot(bin_mids1, hist1, '-^', linewidth=1, markerfacecolor='#ffffff', color=colorlist['FM1'], label='Top 20% Citations')\n",
    "hist2, bin_edges2 = np.histogram(FMDCbootstrap_means_q1, bins=10)\n",
    "bin_mids2 = (bin_edges2[:-1] + bin_edges2[1:]) / 2\n",
    "hist2 = hist2 / 1000\n",
    "ax6.plot(bin_mids2, hist2, '-s', linewidth=1, markerfacecolor='#ffffff', color=colorlist['FM1'], label='Last 20% Citations')\n",
    "ax6.set_ylim(0,0.4)\n",
    "ax6.set_xlabel('Bootstrap $<Disruption>$', fontsize=14, labelpad=4)\n",
    "ax6.set_ylabel('Probability', fontsize=14)\n",
    "ax6.legend(frameon=False, fontsize=10, loc='upper right',ncol=1)\n",
    "ax6.tick_params(axis='both', which='major', pad=7.5)\n",
    "ax6.set_title('Paper (math)', fontsize=16, verticalalignment='bottom')\n",
    "\n",
    "ax7 = fig.add_subplot(grid[4:6, 6:8])\n",
    "hist1, bin_edges1 = np.histogram(FAPSDCbootstrap_means_q4, bins=10)\n",
    "bin_mids1 = (bin_edges1[:-1] + bin_edges1[1:]) / 2\n",
    "hist1 = hist1 / 1000\n",
    "ax7.plot(bin_mids1, hist1, '-^', linewidth=1, markerfacecolor='#ffffff', color=colorlist['FAPS1'], label='Top 20% Citations')\n",
    "hist2, bin_edges2 = np.histogram(FAPSDCbootstrap_means_q1, bins=10)\n",
    "bin_mids2 = (bin_edges2[:-1] + bin_edges2[1:]) / 2\n",
    "hist2 = hist2 / 1000\n",
    "ax7.plot(bin_mids2, hist2, '-s', linewidth=1, markerfacecolor='#ffffff', color=colorlist['FAPS1'], label='Last 20% Citations')\n",
    "ax7.set_ylim(0,0.4)\n",
    "ax7.set_xlabel('Bootstrap $<Disruption>$', fontsize=14, labelpad=4)\n",
    "ax7.tick_params(axis='both', which='major', pad=7.5)\n",
    "ax7.set_ylabel('Probability', fontsize=14)\n",
    "ax7.legend(frameon=False, fontsize=10, loc='upper right',ncol=1)\n",
    "ax7.set_title('Paper (cit-HepTh)', fontsize=16, verticalalignment='bottom')\n",
    "\n",
    "plt.subplots_adjust(wspace=1.3, hspace=1.4)\n",
    "\n",
    "ax1.text(-0.18, 1.06, 'a', size=14, weight='bold', transform=ax1.transAxes)\n",
    "ax2.text(-0.18, 1.06, 'b', size=14, weight='bold', transform=ax2.transAxes)\n",
    "ax3.text(-0.18, 1.06, 'c', size=14, weight='bold', transform=ax3.transAxes)\n",
    "ax4.text(-0.18, 1.06, 'd', size=14, weight='bold', transform=ax4.transAxes)\n",
    "ax5.text(-0.28, 1.115, 'e', size=14, weight='bold', transform=ax5.transAxes)\n",
    "ax6.text(-0.28, 1.115, 'f', size=14, weight='bold', transform=ax6.transAxes)\n",
    "ax7.text(-0.28, 1.115, 'g', size=14, weight='bold', transform=ax7.transAxes)"
   ]
  },
  {
   "cell_type": "code",
   "execution_count": null,
   "id": "23d93687",
   "metadata": {},
   "outputs": [],
   "source": [
    "#figure5"
   ]
  },
  {
   "cell_type": "code",
   "execution_count": null,
   "id": "0f3a7d70",
   "metadata": {},
   "outputs": [],
   "source": [
    "FTGM = load_file('生成模型FTGMnew-04.pkl')\n",
    "FMGM = load_file('生成模型FMGMtop17-2.pkl')\n",
    "FAPSGM = load_file('生成模型FcitGM12-1.pkl')"
   ]
  },
  {
   "cell_type": "code",
   "execution_count": null,
   "id": "540a153b",
   "metadata": {},
   "outputs": [],
   "source": [
    "network_statistics(FTGM)"
   ]
  },
  {
   "cell_type": "code",
   "execution_count": null,
   "id": "1db328d7",
   "metadata": {},
   "outputs": [],
   "source": [
    "network_statistics(FMGM)"
   ]
  },
  {
   "cell_type": "code",
   "execution_count": null,
   "id": "6ea7e203",
   "metadata": {},
   "outputs": [],
   "source": [
    "network_statistics(FAPSGM)"
   ]
  },
  {
   "cell_type": "code",
   "execution_count": null,
   "id": "8681d4a2",
   "metadata": {},
   "outputs": [],
   "source": [
    "FTGMdegree_all, FTGMdegreepdf, FTGMoutdegreepdf, FTGMindegreepdf = degree_distribution(FTGM)\n",
    "FMGMdegree_all, FMGMdegreepdf, FMGMoutdegreepdf, FMGMindegreepdf = degree_distribution(FMGM)\n",
    "FAPSGMdegree_all, FAPSGMdegreepdf, FAPSGMoutdegreepdf, FAPSGMindegreepdf = degree_distribution(FAPSGM)"
   ]
  },
  {
   "cell_type": "code",
   "execution_count": null,
   "id": "cb0b16ef",
   "metadata": {},
   "outputs": [],
   "source": [
    "FTGMDisruption = load_file('Disruptiondata10生成模型FTGMnew-04.pkl')\n",
    "FMGMDisruption = load_file('Disruptiondata10生成模型FMGMtop17-2.pkl')\n",
    "FAPSGMDisruption = load_file('Disruptiondata10生成模型FcitGM12-1.pkl')"
   ]
  },
  {
   "cell_type": "code",
   "execution_count": null,
   "id": "17c48b73",
   "metadata": {},
   "outputs": [],
   "source": [
    "FTGMdisruption_correlation = disruption_correlation(FTGM,FTGMDisruption)\n",
    "FMGMdisruption_correlation = disruption_correlation(FMGM,FMGMDisruption)\n",
    "FAPSGMdisruption_correlation = disruption_correlation(FAPSGM,FAPSGMDisruption)"
   ]
  },
  {
   "cell_type": "code",
   "execution_count": null,
   "id": "1146cd20",
   "metadata": {},
   "outputs": [],
   "source": [
    "pearsonr(FTGMdisruption_correlation[0]['Disruption'],FTGMdisruption_correlation[0]['Citation'])"
   ]
  },
  {
   "cell_type": "code",
   "execution_count": null,
   "id": "91ee2f93",
   "metadata": {},
   "outputs": [],
   "source": [
    "pearsonr(FMGMdisruption_correlation[0]['Disruption'],FMGMdisruption_correlation[0]['Citation'])"
   ]
  },
  {
   "cell_type": "code",
   "execution_count": null,
   "id": "05f1b696",
   "metadata": {},
   "outputs": [],
   "source": [
    "pearsonr(FAPSGMdisruption_correlation[0]['Disruption'],FAPSGMdisruption_correlation[0]['Citation'])"
   ]
  },
  {
   "cell_type": "code",
   "execution_count": null,
   "id": "b5312c8d",
   "metadata": {},
   "outputs": [],
   "source": [
    "species = ('Theorem', 'Paper (math)', 'Paper (cit-HepTh)')\n",
    "clustering_GM = {\n",
    "    'Real networks': (0.04181, 0.10768, 0.15686),\n",
    "    'Generative model': (0.04469, 0.08422, 0.11778),\n",
    "}\n",
    "\n",
    "DC_correlation_GM = {\n",
    "    'Real networks': (0.19310, 0.03070, -0.04000),\n",
    "    'Generative model': (0.10685, -0.00823, -0.03745),\n",
    "}\n",
    "\n",
    "color_clustering_GM = {\n",
    "    'Real network': (colorlist['FT1'], colorlist['FM1'], colorlist['FAPS1']),\n",
    "    'Generative model': (colorlist['GM'], colorlist['GM'], colorlist['GM']),\n",
    "}"
   ]
  },
  {
   "cell_type": "code",
   "execution_count": null,
   "id": "8c699203",
   "metadata": {},
   "outputs": [],
   "source": [
    "fig = plt.figure(figsize=(18, 12))\n",
    "grid = plt.GridSpec(2, 3)\n",
    "plt.rcParams['xtick.direction'] = 'in'\n",
    "plt.rcParams['ytick.direction'] = 'in'\n",
    "\n",
    "ax1 = fig.add_subplot(grid[0:1, 0:1])\n",
    "ax1.set_xscale('log')\n",
    "ax1.set_yscale('log')\n",
    "ax1.plot(FTGMdegreepdf['f'], FTGMdegreepdf['ccdf'], '-o', color=colorlist['FT1'], \n",
    "         markersize=6, markerfacecolor='#ffffff', linewidth=1, markeredgewidth=1, label='$k$')\n",
    "ax1.plot(FTGMoutdegreepdf['f'], FTGMoutdegreepdf['ccdf'], '-^', color=colorlist['FT2'], \n",
    "         markersize=6, markerfacecolor='#ffffff', linewidth=1, markeredgewidth=1, label='$k^{out}$')\n",
    "ax1.plot(FTGMindegreepdf['f'], FTGMindegreepdf['ccdf'], '-s', color=colorlist['FT3'], \n",
    "         markersize=6, markerfacecolor='#ffffff', linewidth=1, markeredgewidth=1, label='$k^{in}$')\n",
    "ax1.text(1, 0.001, r'$p = 0.05$',fontsize=12)\n",
    "ax1.text(1, 0.00057, r'$a = 2$',fontsize=12)\n",
    "ax1.text(1, 0.00035, r'$w = 0.5$',fontsize=12)\n",
    "ax1.text(1, 0.0002, r'$q = 0$',fontsize=12)\n",
    "\n",
    "ax1.set_ylabel('Cumulative probability', fontsize=14)\n",
    "ax1.set_xlabel('Degree', fontsize=14)\n",
    "ax1.legend(frameon=False, fontsize=12)\n",
    "ax1.set_title('Theorem (GM)', fontsize=16, verticalalignment='bottom')\n",
    "\n",
    "ax2 = fig.add_subplot(grid[0:1, 1:2])\n",
    "ax2.set_xscale('log')\n",
    "ax2.set_yscale('log')\n",
    "ax2.plot(FMGMdegreepdf['f'], FMGMdegreepdf['ccdf'], '-o', color=colorlist['FM1'], \n",
    "         markersize=6, markerfacecolor='#ffffff', linewidth=1, markeredgewidth=1, label='$k$')\n",
    "ax2.plot(FMGMoutdegreepdf['f'], FMGMoutdegreepdf['ccdf'], '-^', color=colorlist['FM2'], \n",
    "         markersize=6, markerfacecolor='#ffffff', linewidth=1, markeredgewidth=1, label='$k^{out}$')\n",
    "ax2.plot(FMGMindegreepdf['f'], FMGMindegreepdf['ccdf'], '-s', color=colorlist['FM3'], \n",
    "         markersize=6, markerfacecolor='#ffffff', linewidth=1, markeredgewidth=1, label='$k^{in}$')\n",
    "ax2.text(1, 0.001, r'$p = 0.37$',fontsize=12)\n",
    "ax2.text(1, 0.00057, r'$a = 2$',fontsize=12)\n",
    "ax2.text(1, 0.00035, r'$w = 0.85$',fontsize=12)\n",
    "ax2.text(1, 0.0002, r'$q = 0.028$',fontsize=12)\n",
    "ax2.set_ylabel('Cumulative probability', fontsize=14)\n",
    "ax2.set_xlabel('Degree', fontsize=14)\n",
    "ax2.legend(frameon=False, fontsize=12)\n",
    "ax2.set_title('Paper (math, GM)', fontsize=16, verticalalignment='bottom')\n",
    "\n",
    "ax3 = fig.add_subplot(grid[0:1, 2:3])\n",
    "ax3.set_xscale('log')\n",
    "ax3.set_yscale('log')\n",
    "ax3.plot(FAPSGMdegreepdf['f'], FAPSGMdegreepdf['ccdf'], '-o', color=colorlist['FAPS1'], \n",
    "         markersize=6, markerfacecolor='#ffffff', linewidth=1, markeredgewidth=1, label='$k$')\n",
    "ax3.plot(FAPSGMoutdegreepdf['f'], FAPSGMoutdegreepdf['ccdf'], '-^', color=colorlist['FAPS2'], \n",
    "         markersize=6, markerfacecolor='#ffffff', linewidth=1, markeredgewidth=1, label='$k^{out}$')\n",
    "ax3.plot(FAPSGMindegreepdf['f'], FAPSGMindegreepdf['ccdf'], '-s', color=colorlist['FAPS3'], \n",
    "         markersize=6, markerfacecolor='#ffffff', linewidth=1, markeredgewidth=1, label='$k^{in}$')\n",
    "ax3.text(1, 0.001, r'$p = 0.65$',fontsize=12)\n",
    "ax3.text(1, 0.00057, r'$a = 1$',fontsize=12)\n",
    "ax3.text(1, 0.00035, r'$w = 0.8$',fontsize=12)\n",
    "ax3.text(1, 0.0002, r'$q = 0.125$',fontsize=12)\n",
    "ax3.set_ylabel('Cumulative probability', fontsize=14)\n",
    "ax3.set_xlabel('Degree', fontsize=14)\n",
    "ax3.legend(frameon=False, fontsize=12)\n",
    "ax3.set_title('Paper (cit-HepTh, GM)', fontsize=16, verticalalignment='bottom')\n",
    "\n",
    "ax4 = fig.add_subplot(grid[1:2, 0:1])\n",
    "ax4.set_xscale('log')\n",
    "ax4.set_yscale('log')\n",
    "ax4.errorbar(FTGMdegree_all2.index, FTGMdegree_all2['mean'], yerr=FTGMdegree_all2['sem'], fmt='o-',\n",
    "             ecolor=colorlist['FT1alpha'], color=colorlist['FT1'], \n",
    "             markerfacecolor=colorlist['FT3'], capsize=0,capthick=0, markeredgewidth=1.5, elinewidth=1.5, markersize=6, label='Theorem (GM)')\n",
    "ax4.errorbar(FMGMdegree_all2.index, FMGMdegree_all2['mean'], yerr=FMGMdegree_all2['sem'], fmt='o-',\n",
    "             ecolor=colorlist['FM1alpha'], color=colorlist['FM1'], \n",
    "             markerfacecolor=colorlist['FM3'], capsize=0,capthick=0, markeredgewidth=1.5, elinewidth=1.5, markersize=6,label='Paper (math, GM)')\n",
    "ax4.errorbar(FAPSGMdegree_all2.index, FAPSGMdegree_all2['mean'], yerr=FAPSGMdegree_all2['sem'], fmt='o-',\n",
    "             ecolor=colorlist['FAPS1alpha'], color=colorlist['FAPS1'], markerfacecolor=colorlist['FAPS3'], \n",
    "             capsize=0,capthick=0, markeredgewidth=1.5, elinewidth=1.5, markersize=6, label='Paper (cit-HepTh, GM)')\n",
    "ax4.set_ylim(1.5,200)\n",
    "ax4.set_xlabel('$k^{out}$', fontsize=14)\n",
    "ax4.set_ylabel('$<k^{in}>$', fontsize=14)\n",
    "ax4.legend(frameon=False, fontsize=12, loc='upper right')\n",
    "\n",
    "x = np.arange(len(species))\n",
    "width = 0.4\n",
    "multiplier = 0.5\n",
    "\n",
    "ax5 = fig.add_subplot(grid[1:2, 1:2])\n",
    "\n",
    "rect5 = patches.Rectangle((-0.775, -0.08), 4, 0.08, fill=True,\n",
    "                         edgecolor='none', facecolor='#c9e2a8',alpha=0.2)\n",
    "ax5.add_patch(rect5)\n",
    "\n",
    "for (attribute1, color_c),(attribute2, measurement) in zip(color_clustering_GM.items(),clustering_GM.items()):\n",
    "    offset = width * multiplier\n",
    "    rects = ax5.bar(x + offset, measurement, width, label=attribute2, color=color_c)\n",
    "    ax5.bar_label(rects, padding=3)\n",
    "    multiplier += 1\n",
    "#ax4.axhline(y=0, xmin=0, xmax=1, color='#252525', linestyle='--')\n",
    "\n",
    "ax5.set_ylabel('Average clustering coefficient', fontsize=14, labelpad=4)\n",
    "ax5.set_xlabel('Network', fontsize=14, labelpad=4)\n",
    "ax5.set_xticks(x + width)\n",
    "ax5.set_xticklabels(species)\n",
    "ax5.set_xlim(-0.2,3)\n",
    "ax5.set_ylim(-0.048,0.24)\n",
    "ax5.tick_params(axis='both', which='major', pad=7.5)\n",
    "#ax5.set_yticks([0,0.02,0.04,0.06,0.08,0.10,0.12,0.14,0.16])\n",
    "ax5.legend(frameon=False, fontsize=11,ncol=2)\n",
    "\n",
    "x = np.arange(len(species))\n",
    "width = 0.4\n",
    "multiplier = 0.5\n",
    "\n",
    "ax6 = fig.add_subplot(grid[1:2, 2:3])\n",
    "\n",
    "rect6 = patches.Rectangle((-0.775, -0.08), 4, 0.08, fill=True,\n",
    "                         edgecolor='none', facecolor='#c9e2a8',alpha=0.2)\n",
    "ax6.add_patch(rect6)\n",
    "\n",
    "for (attribute1, color_c),(attribute2, measurement) in zip(color_clustering_GM.items(),DC_correlation_GM.items()):\n",
    "    offset = width * multiplier\n",
    "    rects = ax6.bar(x + offset, measurement, width, label=attribute2, color=color_c)\n",
    "    ax6.bar_label(rects, padding=3)\n",
    "    multiplier += 1\n",
    "ax6.set_ylabel('Correlation (Disruption, Citations)', fontsize=14, labelpad=4)\n",
    "ax6.set_xlabel('Network', fontsize=14, labelpad=4)\n",
    "ax6.set_xticks(x + width)\n",
    "ax6.set_xticklabels(species)\n",
    "ax6.set_xlim(-0.2,3)\n",
    "ax6.set_ylim(-0.06,0.3)\n",
    "ax6.tick_params(axis='both', which='major', pad=7.5)\n",
    "ax6.legend(frameon=False, fontsize=11, loc='upper right',ncol=2)\n",
    "\n",
    "plt.subplots_adjust(wspace=0.25, hspace=0.25)\n",
    "\n",
    "ax1.text(-0.18, 1.07, 'a', size=14, weight='bold', transform=ax1.transAxes)\n",
    "ax2.text(-0.18, 1.07, 'b', size=14, weight='bold', transform=ax2.transAxes)\n",
    "ax3.text(-0.18, 1.07, 'c', size=14, weight='bold', transform=ax3.transAxes)\n",
    "ax4.text(-0.18, 1.03, 'd', size=14, weight='bold', transform=ax4.transAxes)\n",
    "ax5.text(-0.18, 1.03, 'e', size=14, weight='bold', transform=ax5.transAxes)\n",
    "ax6.text(-0.18, 1.03, 'f', size=14, weight='bold', transform=ax6.transAxes)"
   ]
  }
 ],
 "metadata": {
  "kernelspec": {
   "display_name": "Python 3 (ipykernel)",
   "language": "python",
   "name": "python3"
  },
  "language_info": {
   "codemirror_mode": {
    "name": "ipython",
    "version": 3
   },
   "file_extension": ".py",
   "mimetype": "text/x-python",
   "name": "python",
   "nbconvert_exporter": "python",
   "pygments_lexer": "ipython3",
   "version": "3.10.9"
  }
 },
 "nbformat": 4,
 "nbformat_minor": 5
}
