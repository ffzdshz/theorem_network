{
 "cells": [
  {
   "cell_type": "code",
   "execution_count": null,
   "id": "0f840ca2",
   "metadata": {},
   "outputs": [],
   "source": [
    "import pandas as pd\n",
    "import numpy as np\n",
    "import seaborn as sns\n",
    "import matplotlib.pyplot as plt\n",
    "import networkx as nx\n",
    "from tqdm.notebook import tqdm\n",
    "import gc\n",
    "import pickle\n",
    "import random"
   ]
  },
  {
   "cell_type": "code",
   "execution_count": null,
   "id": "5cf898aa",
   "metadata": {},
   "outputs": [],
   "source": [
    "def load_file(file):\n",
    "\n",
    "    r = open(file,'rb')\n",
    "    x = pickle.load(r)\n",
    "    r.close()\n",
    "\n",
    "    return x"
   ]
  },
  {
   "cell_type": "code",
   "execution_count": null,
   "id": "5a7d6e0d",
   "metadata": {},
   "outputs": [],
   "source": [
    "def save_file(x,file):\n",
    "\n",
    "    r = open(file,'wb')\n",
    "    pickle.dump(x,r)"
   ]
  },
  {
   "cell_type": "code",
   "execution_count": null,
   "id": "f723fdf0",
   "metadata": {},
   "outputs": [],
   "source": [
    "def degree_distribution(F):\n",
    "    degree = pd.DataFrame(nx.degree(F))\n",
    "    degree = degree.sort_values(by=[1], ascending=False)\n",
    "    citypdf_sum2 = pd.DataFrame(degree[1].value_counts())\n",
    "    citypdf_sum2['f'] = citypdf_sum2.index\n",
    "    citypdf_sum2['频率'] = citypdf_sum2[1]/citypdf_sum2[1].sum()\n",
    "    citypdf_sum2 = citypdf_sum2.sort_values(by=['f'], ascending=True)\n",
    "    ccdf_sum2 = np.zeros(len(citypdf_sum2))\n",
    "    for i in range(len(ccdf_sum2)):\n",
    "        ccdf_sum2[i] = 1-np.sum(citypdf_sum2.values[0:i,2])\n",
    "    citypdf_sum2['ccdf'] = ccdf_sum2\n",
    "    gdo = pd.DataFrame(F.out_degree())\n",
    "    gdo = gdo.sort_values(by=[1], ascending=False)\n",
    "    citypdf_sum = pd.DataFrame(gdo[1].value_counts())\n",
    "    citypdf_sum['f'] = citypdf_sum.index\n",
    "    citypdf_sum['频率'] = citypdf_sum[1]/citypdf_sum[1].sum()\n",
    "    citypdf_sum = citypdf_sum.sort_values(by=['f'], ascending=True)\n",
    "    ccdf_sum = np.zeros(len(citypdf_sum))\n",
    "    for i in range(len(ccdf_sum)):\n",
    "        ccdf_sum[i] = 1-np.sum(citypdf_sum.values[0:i,2])\n",
    "    citypdf_sum['ccdf'] = ccdf_sum\n",
    "    gdi = pd.DataFrame(F.in_degree())\n",
    "    gdi = gdi.sort_values(by=[1], ascending=False)\n",
    "    citypdf_sum1 = pd.DataFrame(gdi[1].value_counts())\n",
    "    citypdf_sum1['f'] = citypdf_sum1.index\n",
    "    citypdf_sum1['频率'] = citypdf_sum1[1]/citypdf_sum1[1].sum()\n",
    "    citypdf_sum1 = citypdf_sum1.sort_values(by=['f'], ascending=True)\n",
    "    ccdf_sum1 = np.zeros(len(citypdf_sum1))\n",
    "    for i in range(len(ccdf_sum1)):\n",
    "        ccdf_sum1[i] = 1-np.sum(citypdf_sum1.values[0:i,2])\n",
    "    citypdf_sum1['ccdf'] = ccdf_sum1\n",
    "    degree.set_index([0], inplace=True)\n",
    "    gdo.set_index([0], inplace=True)\n",
    "    gdi.set_index([0], inplace=True)\n",
    "    degree_all = pd.concat([degree, gdo, gdi], axis=1)\n",
    "    degree_all.columns = ['Degree','Out-degree','In-degree']\n",
    "    return degree_all, citypdf_sum2, citypdf_sum, citypdf_sum1"
   ]
  },
  {
   "cell_type": "code",
   "execution_count": null,
   "id": "a5b404a5",
   "metadata": {},
   "outputs": [],
   "source": [
    "list_all = pd.read_excel('F:\\\\dataset\\\\mpeuni\\\\Theorems\\\\new\\\\list_all.xlsx', header = 0)\n",
    "adjacency_listT = pd.read_excel('F:\\\\dataset\\\\mpeuni\\\\Theorems\\\\new\\\\adjacency_list_Theorems_and_Axioms_only.xlsx', header = 0)\n",
    "FTheorem = nx.from_pandas_edgelist(adjacency_listT, 'Theorem_id', 'Ref_id', create_using=nx.DiGraph())"
   ]
  },
  {
   "cell_type": "code",
   "execution_count": null,
   "id": "cbad9d29",
   "metadata": {},
   "outputs": [],
   "source": [
    "nodelistor = list(FTheorem)[:100]"
   ]
  },
  {
   "cell_type": "code",
   "execution_count": null,
   "id": "4fe5d755",
   "metadata": {},
   "outputs": [],
   "source": [
    "F = FTheorem.subgraph(nodelistor)"
   ]
  },
  {
   "cell_type": "code",
   "execution_count": null,
   "id": "7638d242",
   "metadata": {},
   "outputs": [],
   "source": [
    "F = nx.convert_node_labels_to_integers(F, first_label=0, ordering='default', label_attribute=None)"
   ]
  },
  {
   "cell_type": "code",
   "execution_count": null,
   "id": "24440a70",
   "metadata": {},
   "outputs": [],
   "source": [
    "vectoror = np.random.randint(0,2,(100,10))"
   ]
  },
  {
   "cell_type": "code",
   "execution_count": null,
   "id": "b94dabbd",
   "metadata": {},
   "outputs": [],
   "source": [
    "#theorem"
   ]
  },
  {
   "cell_type": "code",
   "execution_count": null,
   "id": "e37e9c63",
   "metadata": {},
   "outputs": [],
   "source": [
    "p = 0.05\n",
    "w = 0.5\n",
    "a = 2"
   ]
  },
  {
   "cell_type": "code",
   "execution_count": null,
   "id": "328a3e37",
   "metadata": {},
   "outputs": [],
   "source": [
    "for i in tqdm(range(26326)):\n",
    "    possible_neighbors = list(F.nodes)\n",
    "    F.add_node(i + 100)\n",
    "    vectori = np.random.randint(0, 2, (1, 10))[0]\n",
    "    norm_vectori = np.linalg.norm(vectori)\n",
    "    cos_sim = np.dot(vectoror, vectori) / (np.linalg.norm(vectoror, axis=1) * norm_vectori)\n",
    "    cos_simcount1 = cos_sim > w\n",
    "    possible_neighbors1 = [possible_neighbors[n] for n in np.where(cos_simcount1)[0]]\n",
    "    degrees1 = [F.in_degree(n) for n in possible_neighbors1]\n",
    "    new_degrees1 = np.array(degrees1) + a\n",
    "    vectoror = np.vstack((vectoror, vectori))\n",
    "    \n",
    "    if len(possible_neighbors1) == 0:\n",
    "        continue\n",
    "    \n",
    "    k = 0\n",
    "    while k < len(possible_neighbors):\n",
    "        j1 = random.choices(possible_neighbors1, weights=new_degrees1, k=1)[0]\n",
    "        F.add_edge(i + 100, j1)\n",
    "        P = np.random.binomial(1, p)\n",
    "        if P == 1:\n",
    "            k += 1\n",
    "            break\n",
    "        else:\n",
    "            k += 1"
   ]
  },
  {
   "cell_type": "code",
   "execution_count": null,
   "id": "847f06e3",
   "metadata": {},
   "outputs": [],
   "source": [
    "#mathematical paper"
   ]
  },
  {
   "cell_type": "code",
   "execution_count": null,
   "id": "839a8214",
   "metadata": {},
   "outputs": [],
   "source": [
    "p = 0.37\n",
    "a = 2\n",
    "w = 0.85\n",
    "z = 0.028"
   ]
  },
  {
   "cell_type": "code",
   "execution_count": null,
   "id": "8646e2ea",
   "metadata": {},
   "outputs": [],
   "source": [
    "lc_count = []\n",
    "sc_count = []"
   ]
  },
  {
   "cell_type": "code",
   "execution_count": null,
   "id": "9db32f5b",
   "metadata": {},
   "outputs": [],
   "source": [
    "for i in tqdm(range(38928)):\n",
    "    possible_neighbors = list(F.nodes)\n",
    "    F.add_node(i + 100)\n",
    "    vectori = np.random.randint(0, 2, (1, 10))[0]\n",
    "    norm_vectori = np.linalg.norm(vectori)\n",
    "    cos_sim = np.dot(vectoror, vectori) / (np.linalg.norm(vectoror, axis=1) * norm_vectori)\n",
    "    cos_simcount1 = cos_sim > w\n",
    "    possible_neighbors1 = [possible_neighbors[n] for n in np.where(cos_simcount1)[0]]\n",
    "    degrees1 = [F.in_degree(n) for n in possible_neighbors1]\n",
    "    new_degrees1 = np.array(degrees1) + a\n",
    "    vectoror = np.vstack((vectoror, vectori))\n",
    "    \n",
    "    if len(possible_neighbors1) == 0:\n",
    "        continue\n",
    "    \n",
    "    k = 0\n",
    "    number = 0\n",
    "    number1 = 0\n",
    "    while k < len(possible_neighbors):\n",
    "        j1 = random.choices(possible_neighbors1, weights=new_degrees1, k=1)[0]\n",
    "        F.add_edge(i + 100, j1)\n",
    "        number = number + 1\n",
    "        choices_neighbors1 = list(F.successors(j1))\n",
    "        choices_neighbors2 = list(F.predecessors(j1))\n",
    "        choices_neighbors2.remove(i + 100)\n",
    "        choices_neighbors = choices_neighbors1 + choices_neighbors2\n",
    "        X = np.random.binomial(1, z, len(choices_neighbors))\n",
    "        linklist1 = np.where(X == 1)[0]\n",
    "        number1 = number1 + len(linklist1)\n",
    "        for n in linklist1:\n",
    "            F.add_edge(i + 100, choices_neighbors[n])\n",
    "        P = np.random.binomial(1, p)\n",
    "        if P == 1:\n",
    "            k += 1\n",
    "            break\n",
    "        else:\n",
    "            k += 1\n",
    "    lc_count.append(number)\n",
    "    sc_count.append(number1)"
   ]
  },
  {
   "cell_type": "code",
   "execution_count": null,
   "id": "2fb5c89f",
   "metadata": {},
   "outputs": [],
   "source": [
    "#paper"
   ]
  },
  {
   "cell_type": "code",
   "execution_count": null,
   "id": "b5b0f0fd",
   "metadata": {},
   "outputs": [],
   "source": [
    "p = 0.65\n",
    "a = 1\n",
    "w = 0.8\n",
    "z = 0.125"
   ]
  },
  {
   "cell_type": "code",
   "execution_count": null,
   "id": "d9344d5b",
   "metadata": {},
   "outputs": [],
   "source": [
    "lc_count = []\n",
    "sc_count = []"
   ]
  },
  {
   "cell_type": "code",
   "execution_count": null,
   "id": "3c1dc38a",
   "metadata": {},
   "outputs": [],
   "source": [
    "for i in tqdm(range(27300)):\n",
    "    possible_neighbors = list(F.nodes)\n",
    "    F.add_node(i + 100)\n",
    "    vectori = np.random.randint(0, 2, (1, 10))[0]\n",
    "    norm_vectori = np.linalg.norm(vectori)\n",
    "    cos_sim = np.dot(vectoror, vectori) / (np.linalg.norm(vectoror, axis=1) * norm_vectori)\n",
    "    cos_simcount1 = cos_sim > w\n",
    "    possible_neighbors1 = [possible_neighbors[n] for n in np.where(cos_simcount1)[0]]\n",
    "    degrees1 = [F.in_degree(n) for n in possible_neighbors1]\n",
    "    new_degrees1 = np.array(degrees1) + a\n",
    "    vectoror = np.vstack((vectoror, vectori))\n",
    "    \n",
    "    if len(possible_neighbors1) == 0:\n",
    "        continue\n",
    "    \n",
    "    k = 0\n",
    "    number = 0\n",
    "    number1 = 0\n",
    "    while k < len(possible_neighbors):\n",
    "        j1 = random.choices(possible_neighbors1, weights=new_degrees1, k=1)[0]\n",
    "        F.add_edge(i + 100, j1)\n",
    "        number = number + 1\n",
    "        choices_neighbors1 = list(F.successors(j1))\n",
    "        choices_neighbors2 = list(F.predecessors(j1))\n",
    "        choices_neighbors2.remove(i + 100)\n",
    "        choices_neighbors = choices_neighbors1 + choices_neighbors2\n",
    "        X = np.random.binomial(1, z, len(choices_neighbors))\n",
    "        linklist1 = np.where(X == 1)[0]\n",
    "        number1 = number1 + len(linklist1)\n",
    "        for n in linklist1:\n",
    "            F.add_edge(i + 100, choices_neighbors[n])\n",
    "        P = np.random.binomial(1, p)\n",
    "        if P == 1:\n",
    "            k += 1\n",
    "            break\n",
    "        else:\n",
    "            k += 1\n",
    "    lc_count.append(number)\n",
    "    sc_count.append(number1)"
   ]
  },
  {
   "cell_type": "code",
   "execution_count": null,
   "id": "48913b46",
   "metadata": {},
   "outputs": [],
   "source": [
    "F.number_of_nodes()"
   ]
  },
  {
   "cell_type": "code",
   "execution_count": null,
   "id": "d368b8a3",
   "metadata": {},
   "outputs": [],
   "source": [
    "F.number_of_edges()"
   ]
  },
  {
   "cell_type": "code",
   "execution_count": null,
   "id": "0c890553",
   "metadata": {},
   "outputs": [],
   "source": [
    "gdo = pd.DataFrame(F.out_degree())\n",
    "gdo = gdo.sort_values(by=[1], ascending=False)"
   ]
  },
  {
   "cell_type": "code",
   "execution_count": null,
   "id": "20468747",
   "metadata": {},
   "outputs": [],
   "source": [
    "gdo"
   ]
  },
  {
   "cell_type": "code",
   "execution_count": null,
   "id": "13585e68",
   "metadata": {},
   "outputs": [],
   "source": [
    "gdi = pd.DataFrame(F.in_degree())\n",
    "gdi = gdi.sort_values(by=[1], ascending=False)"
   ]
  },
  {
   "cell_type": "code",
   "execution_count": null,
   "id": "d54cd446",
   "metadata": {},
   "outputs": [],
   "source": [
    "gdi"
   ]
  },
  {
   "cell_type": "code",
   "execution_count": null,
   "id": "9dfccf43",
   "metadata": {},
   "outputs": [],
   "source": [
    "degree_all, degreepdf, outdegreepdf, indegreepdf = degree_distribution(F)"
   ]
  },
  {
   "cell_type": "code",
   "execution_count": null,
   "id": "aa172244",
   "metadata": {},
   "outputs": [],
   "source": [
    "fig = plt.figure(figsize=(5, 5))\n",
    "grid = plt.GridSpec(1, 1)\n",
    "plt.rcParams['xtick.direction'] = 'in'\n",
    "plt.rcParams['ytick.direction'] = 'in'\n",
    "\n",
    "ax2 = fig.add_subplot(grid[0:1, 0:1])\n",
    "ax2.set_xscale('log')\n",
    "ax2.set_yscale('log')\n",
    "ax2.plot(degreepdf['f'], degreepdf['ccdf'], '-o', color='#1F77B4', markersize=3, label='$k$')\n",
    "ax2.plot(outdegreepdf['f'], outdegreepdf['ccdf'], '-o', color='#175987', markersize=3,label='$k^{out}$')\n",
    "ax2.plot(indegreepdf['f'], indegreepdf['ccdf'], '-o', color='#6092B4', markersize=3,label='$k^{in}$')\n",
    "ax2.set_ylabel('Cumulative probability', fontsize=14)\n",
    "ax2.set_xlabel('The degree of citation network', fontsize=14)\n",
    "ax2.legend(frameon=False)"
   ]
  },
  {
   "cell_type": "code",
   "execution_count": null,
   "id": "a84a7bab",
   "metadata": {},
   "outputs": [],
   "source": [
    "GMresults = [p,a,w,z,F,lc_count,sc_count]"
   ]
  },
  {
   "cell_type": "code",
   "execution_count": null,
   "id": "f1a9943b",
   "metadata": {},
   "outputs": [],
   "source": [
    "save_file(GMresults,'生成模型FcitGM-01.pkl')"
   ]
  },
  {
   "cell_type": "code",
   "execution_count": null,
   "id": "9d7e198e",
   "metadata": {},
   "outputs": [],
   "source": []
  },
  {
   "cell_type": "code",
   "execution_count": null,
   "id": "03ee60c7",
   "metadata": {},
   "outputs": [],
   "source": []
  }
 ],
 "metadata": {
  "kernelspec": {
   "display_name": "Python 3 (ipykernel)",
   "language": "python",
   "name": "python3"
  },
  "language_info": {
   "codemirror_mode": {
    "name": "ipython",
    "version": 3
   },
   "file_extension": ".py",
   "mimetype": "text/x-python",
   "name": "python",
   "nbconvert_exporter": "python",
   "pygments_lexer": "ipython3",
   "version": "3.10.9"
  }
 },
 "nbformat": 4,
 "nbformat_minor": 5
}
