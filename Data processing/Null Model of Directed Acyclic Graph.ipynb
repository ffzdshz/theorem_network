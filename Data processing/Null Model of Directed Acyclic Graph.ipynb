{
 "cells": [
  {
   "cell_type": "code",
   "execution_count": 1,
   "metadata": {},
   "outputs": [],
   "source": [
    "import pandas as pd\n",
    "import numpy as np\n",
    "import seaborn as sns\n",
    "import matplotlib.pyplot as plt\n",
    "import networkx as nx\n",
    "import warnings"
   ]
  },
  {
   "cell_type": "code",
   "execution_count": 2,
   "metadata": {},
   "outputs": [],
   "source": [
    "import gc\n",
    "import pickle"
   ]
  },
  {
   "cell_type": "code",
   "execution_count": 3,
   "metadata": {},
   "outputs": [],
   "source": [
    "from tqdm.notebook import tqdm"
   ]
  },
  {
   "cell_type": "code",
   "execution_count": 4,
   "metadata": {},
   "outputs": [],
   "source": [
    "def load_file(file):\n",
    "\n",
    "    r = open(file,'rb')\n",
    "    x = pickle.load(r)\n",
    "    r.close()\n",
    "\n",
    "    return x"
   ]
  },
  {
   "cell_type": "code",
   "execution_count": 5,
   "metadata": {},
   "outputs": [],
   "source": [
    "def save_file(x,file):\n",
    "\n",
    "    r = open(file,'wb')\n",
    "    pickle.dump(x,r)"
   ]
  },
  {
   "cell_type": "code",
   "execution_count": 6,
   "metadata": {},
   "outputs": [],
   "source": [
    "warnings.filterwarnings('ignore')"
   ]
  },
  {
   "cell_type": "code",
   "execution_count": 7,
   "metadata": {},
   "outputs": [],
   "source": [
    "F = load_file('XXX.pkl')"
   ]
  },
  {
   "cell_type": "code",
   "execution_count": 8,
   "metadata": {},
   "outputs": [],
   "source": [
    "adjacency_listT = pd.DataFrame(F.edges())"
   ]
  },
  {
   "cell_type": "code",
   "execution_count": 9,
   "metadata": {},
   "outputs": [],
   "source": [
    "adjacency_listT.columns = ['Theorem_id','Ref_id']"
   ]
  },
  {
   "cell_type": "code",
   "execution_count": 10,
   "metadata": {},
   "outputs": [],
   "source": [
    "import random"
   ]
  },
  {
   "cell_type": "code",
   "execution_count": 11,
   "metadata": {},
   "outputs": [],
   "source": [
    "FTheorem1 = F.reverse(copy=True)"
   ]
  },
  {
   "cell_type": "code",
   "execution_count": 12,
   "metadata": {
    "scrolled": true
   },
   "outputs": [],
   "source": [
    "topological_generationsTheorem = [sorted(generation) for generation in nx.topological_generations(FTheorem1)]"
   ]
  },
  {
   "cell_type": "code",
   "execution_count": 13,
   "metadata": {},
   "outputs": [],
   "source": [
    "topological_sortTheorem = []"
   ]
  },
  {
   "cell_type": "code",
   "execution_count": 14,
   "metadata": {
    "scrolled": true
   },
   "outputs": [],
   "source": [
    "for i in range(len(topological_generationsTheorem)):\n",
    "    topological_generations1 = topological_generationsTheorem[i]\n",
    "    random.shuffle(topological_generations1)\n",
    "    topological_sortTheorem.extend(topological_generations1)"
   ]
  },
  {
   "cell_type": "code",
   "execution_count": 15,
   "metadata": {},
   "outputs": [],
   "source": [
    "topological_sortdict = dict(zip(topological_sortTheorem,range(0,len(topological_sortTheorem),1)))"
   ]
  },
  {
   "cell_type": "code",
   "execution_count": 16,
   "metadata": {},
   "outputs": [],
   "source": [
    "list1 = adjacency_listT[['Theorem_id']]\n",
    "list2 = adjacency_listT[['Ref_id']]\n",
    "list1['topological_sort1'] = list1['Theorem_id'].map(topological_sortdict)\n",
    "list2['topological_sort2'] = list2['Ref_id'].map(topological_sortdict)\n",
    "list1 = list1.sort_values(by=['topological_sort1'], ascending=True)\n",
    "list2 = list2.sort_values(by=['topological_sort2'], ascending=True)"
   ]
  },
  {
   "cell_type": "code",
   "execution_count": 17,
   "metadata": {},
   "outputs": [],
   "source": [
    "list1['no'] = pd.factorize(list1['Theorem_id'])[0]\n",
    "list1.set_index(['no'], inplace=True)\n",
    "list2.index = np.arange(len(list2.index))"
   ]
  },
  {
   "cell_type": "code",
   "execution_count": 18,
   "metadata": {},
   "outputs": [],
   "source": [
    "newadjacency_list = []"
   ]
  },
  {
   "cell_type": "code",
   "execution_count": 19,
   "metadata": {},
   "outputs": [],
   "source": [
    "lenth = np.max(list1['no'])+1"
   ]
  },
  {
   "cell_type": "code",
   "execution_count": 20,
   "metadata": {
    "scrolled": false
   },
   "outputs": [],
   "source": [
    "for i in tqdm(range(lenth)):\n",
    "    list1i = list1.loc[[i]]\n",
    "    list1jpr = list2[list2['topological_sort2']<list(list1i['topological_sort1'])[0]]\n",
    "    list1j = list1jpr.sample(n=len(list1i))\n",
    "    list2 = list2[~list2.index.isin(list1j.index)]\n",
    "    #list1 = list1[~list1.index.isin(list1i.index)]\n",
    "    listnew = pd.concat([list1i.reset_index(drop=True),list1j.reset_index(drop=True)],axis=1)\n",
    "    newadjacency_list.extend(listnew.values.tolist())"
   ]
  },
  {
   "cell_type": "code",
   "execution_count": 21,
   "metadata": {},
   "outputs": [],
   "source": [
    "newadjacency_list1 = pd.DataFrame(newadjacency_list, columns=['Theorem_id','topological_sort1','Ref_id','topological_sort2'])"
   ]
  },
  {
   "cell_type": "code",
   "execution_count": 22,
   "metadata": {},
   "outputs": [],
   "source": [
    "FTheoremRN = nx.from_pandas_edgelist(newadjacency_list1, 'Theorem_id', 'Ref_id', create_using=nx.DiGraph())"
   ]
  },
  {
   "cell_type": "code",
   "execution_count": 23,
   "metadata": {},
   "outputs": [],
   "source": [
    "save_file(FTheoremRN,'XXX.pkl')"
   ]
  }
 ],
 "metadata": {
  "kernelspec": {
   "display_name": "Python 3",
   "language": "python",
   "name": "python3"
  },
  "language_info": {
   "codemirror_mode": {
    "name": "ipython",
    "version": 3
   },
   "file_extension": ".py",
   "mimetype": "text/x-python",
   "name": "python",
   "nbconvert_exporter": "python",
   "pygments_lexer": "ipython3",
   "version": "3.8.1"
  }
 },
 "nbformat": 4,
 "nbformat_minor": 4
}
